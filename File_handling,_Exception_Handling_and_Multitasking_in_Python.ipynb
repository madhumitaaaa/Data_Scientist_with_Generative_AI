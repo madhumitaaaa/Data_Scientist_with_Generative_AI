{
  "nbformat": 4,
  "nbformat_minor": 0,
  "metadata": {
    "colab": {
      "provenance": [],
      "authorship_tag": "ABX9TyNDOWy6E0M/4mIzllrbskN2",
      "include_colab_link": true
    },
    "kernelspec": {
      "name": "python3",
      "display_name": "Python 3"
    },
    "language_info": {
      "name": "python"
    }
  },
  "cells": [
    {
      "cell_type": "markdown",
      "metadata": {
        "id": "view-in-github",
        "colab_type": "text"
      },
      "source": [
        "<a href=\"https://colab.research.google.com/github/madhumitaaaa/Data_Scientist_with_Generative_AI/blob/main/File_handling%2C_Exception_Handling_and_Multitasking_in_Python.ipynb\" target=\"_parent\"><img src=\"https://colab.research.google.com/assets/colab-badge.svg\" alt=\"Open In Colab\"/></a>"
      ]
    },
    {
      "cell_type": "code",
      "source": [
        "import os\n",
        "\n",
        "#1.Write a code to read the contents of a file in Python.\n",
        "# Specify the file name\n",
        "file_name = 'example.txt'\n",
        "\n",
        "# Open the file in read mode\n",
        "try:\n",
        "    with open(file_name, 'r') as file:\n",
        "        # Read the contents of the file\n",
        "        contents = file.read()\n",
        "        # Print the contents\n",
        "        print(contents)\n",
        "except FileNotFoundError:\n",
        "    print(f\"The file {file_name} does not exist.\")\n",
        "except IOError:\n",
        "    print(f\"An error occurred while reading the file {file_name}.\")"
      ],
      "metadata": {
        "colab": {
          "base_uri": "https://localhost:8080/"
        },
        "id": "SN5veAqevXL1",
        "outputId": "89712fa5-05e9-4ac0-c493-053504802256"
      },
      "execution_count": 4,
      "outputs": [
        {
          "output_type": "stream",
          "name": "stdout",
          "text": [
            "The file example.txt does not exist.\n"
          ]
        }
      ]
    },
    {
      "cell_type": "code",
      "source": [
        "#2.Write a code to write to a file in Python.\n",
        "\n",
        "file_name = 'example.txt'\n",
        "\n",
        "# Open the file in write mode\n",
        "try:\n",
        "    with open(file_name, 'w') as file:\n",
        "        # Write some text to the file\n",
        "        file.write(\"Hello, World!\\n\")\n",
        "        file.write(\"This is a sample file.\\n\")\n",
        "        file.write(\"Writing to files in Python is easy!\\n\")\n",
        "    print(f\"Data has been written to {file_name}.\")\n",
        "except IOError:\n",
        "    print(f\"An error occurred while writing to the file {file_name}.\")"
      ],
      "metadata": {
        "colab": {
          "base_uri": "https://localhost:8080/"
        },
        "id": "L8XuphIzvcHt",
        "outputId": "697f646d-7ea3-4c1c-a688-7f3939a9f9b4"
      },
      "execution_count": 5,
      "outputs": [
        {
          "output_type": "stream",
          "name": "stdout",
          "text": [
            "Data has been written to example.txt.\n"
          ]
        }
      ]
    },
    {
      "cell_type": "code",
      "source": [
        "#3. Write a code to append to a file in Python.\n",
        "\n",
        "file_name = 'output.txt'\n",
        "\n",
        "# Open the file in append mode\n",
        "try:\n",
        "    with open(file_name, 'a') as file:\n",
        "        # Append some text to the file\n",
        "        file.write(\"This line is appended to the file.\\n\")\n",
        "        file.write(\"Appending more content is straightforward!\\n\")\n",
        "    print(f\"Data has been appended to {file_name}.\")\n",
        "except IOError:\n",
        "    print(f\"An error occurred while writing to the file {file_name}.\")\n",
        "\n"
      ],
      "metadata": {
        "colab": {
          "base_uri": "https://localhost:8080/"
        },
        "id": "dF6Qhr5V0QqS",
        "outputId": "0406e1c3-0a99-435f-9826-2cc2e70a0be5"
      },
      "execution_count": 6,
      "outputs": [
        {
          "output_type": "stream",
          "name": "stdout",
          "text": [
            "Data has been appended to output.txt.\n"
          ]
        }
      ]
    },
    {
      "cell_type": "code",
      "source": [
        "#4. Write a code to read a binary file in Python.\n",
        "\n",
        "file_name = 'example.txt'\n",
        "\n",
        "# Open the binary file in read mode\n",
        "try:\n",
        "    with open(file_name, 'rb') as file:\n",
        "        # Read the contents of the binary file\n",
        "        binary_data = file.read()\n",
        "\n",
        "        # Print the binary data (as bytes)\n",
        "        print(\"Binary data read from the file:\")\n",
        "        print(binary_data)\n",
        "\n",
        "        # If you want to process the binary data, you can do so here\n",
        "        # For example, you can convert it to a list of integers\n",
        "        data_as_integers = list(binary_data)\n",
        "        print(\"Data as integers:\", data_as_integers)\n",
        "except FileNotFoundError:\n",
        "    print(f\"The file {file_name} does not exist.\")\n",
        "except IOError:\n",
        "    print(f\"An error occurred while reading the file {file_name}.\")"
      ],
      "metadata": {
        "colab": {
          "base_uri": "https://localhost:8080/"
        },
        "id": "igLMEOLu11Dy",
        "outputId": "0155e7c9-f19c-4870-cb81-507d5be41963"
      },
      "execution_count": 7,
      "outputs": [
        {
          "output_type": "stream",
          "name": "stdout",
          "text": [
            "Binary data read from the file:\n",
            "b'Hello, World!\\nThis is a sample file.\\nWriting to files in Python is easy!\\n'\n",
            "Data as integers: [72, 101, 108, 108, 111, 44, 32, 87, 111, 114, 108, 100, 33, 10, 84, 104, 105, 115, 32, 105, 115, 32, 97, 32, 115, 97, 109, 112, 108, 101, 32, 102, 105, 108, 101, 46, 10, 87, 114, 105, 116, 105, 110, 103, 32, 116, 111, 32, 102, 105, 108, 101, 115, 32, 105, 110, 32, 80, 121, 116, 104, 111, 110, 32, 105, 115, 32, 101, 97, 115, 121, 33, 10]\n"
          ]
        }
      ]
    },
    {
      "cell_type": "code",
      "source": [
        "#5. What happens if we don't use `with` keyword with `open` in python.\n",
        "\n",
        "#Example Without `with`(Manual Closing Required)\n",
        "file = open(\"example.txt\", \"r\")  # Open file\n",
        "content = file.read()            # Read content\n",
        "print(content)\n",
        "file.close()  # Must close manually!\n",
        "\n",
        "#Example Using `with` (Auto-Closing)\n",
        "with open(\"output.txt\", \"r\") as file:\n",
        "    content = file.read()  # File is automatically closed after the block\n",
        "    print(content)\n"
      ],
      "metadata": {
        "colab": {
          "base_uri": "https://localhost:8080/"
        },
        "id": "6hOgpsVx4LSf",
        "outputId": "b6a76a1d-16f9-4e7b-93dd-6356c92a73da"
      },
      "execution_count": 8,
      "outputs": [
        {
          "output_type": "stream",
          "name": "stdout",
          "text": [
            "Hello, World!\n",
            "This is a sample file.\n",
            "Writing to files in Python is easy!\n",
            "\n",
            "This line is appended to the file.\n",
            "Appending more content is straightforward!\n",
            "\n"
          ]
        }
      ]
    },
    {
      "cell_type": "code",
      "source": [
        "#6.Explain the concept of buffering in file handling and how it helps in improving read and write operations.\n",
        "#ANSWER-Buffering is a technique where data is temporarily stored in memory (buffer) before being written to or read from a file. Instead of performing frequent disk I/O operatios, buffering helps improve efficiency by reducing direct interactions with the disk.\n",
        "  #How Buffering Works -\n",
        "    #1.Buffer Creation:\n",
        "      #When a file is opened for reading or writing, a buffer is created in memory. This buffer is a fixed-size block of memory that holds data temporarily.\n",
        "    #2.Read Operations:\n",
        "      #When reading from a file, instead of reading one byte or one line at a time, the system reads a larger chunk of data into the buffer.\n",
        "      #Subsequent read operations can then be satisfied from the buffer, which is much faster than accessing the disk repeatedly.\n",
        "      #When the buffer is empty, the system reads another chunk of data from the file into the buffer.\n",
        "    #3.Write Operations:\n",
        "      #When writing to a file, data is first written to the buffer instead of directly to the disk.\n",
        "      #Once the buffer reaches its capacity or when the file is closed, the data in the buffer is flushed (written) to the disk in one go.\n",
        "      #This reduces the number of write operations, which are generally slower than memory operations.\n",
        "  #Benefits of Buffering\n",
        "    #Improved Performance: Buffering reduces the number of I/O operations by allowing multiple reads or writes to be performed in a single operation. This is particularly beneficial for large files or when performing many small read/write operations.\n",
        "    #Reduced Disk Access: Accessing the disk is significantly slower than accessing RAM. By minimizing the number of disk accesses, buffering helps improve overall performance.\n",
        "    #Efficient Resource Utilization: Buffering allows the program to use system resources more efficiently, as it can perform other tasks while waiting for I/O operations to complete.\n",
        "    #Smoother Data Flow: Buffering can help smooth out the flow of data, especially in applications that require continuous data streams, such as video or audio processing.\n",
        "\n",
        "    #Buffering in Python\n",
        "     #The built-in open() function provides buffering options. By default, Python uses a buffer size that is appropriate for the underlying operating system. You can also specify the buffer size manually:\n",
        "with open(\"example.txt\", \"w\", buffering=1024) as f:  # Buffer size: 1KB\n",
        " f.write(\"Hello, World! \" * 1000)  # Buffered write improves speed\n"
      ],
      "metadata": {
        "id": "2-SzGYcU8b_X"
      },
      "execution_count": 9,
      "outputs": []
    },
    {
      "cell_type": "code",
      "source": [
        "#7.Describe the steps involved in implementing buffered file handling in a programming languaouge of yr choice.\n",
        "#Answer- The steps involved in implementing buffered file handling in a programming languaouge of your choice are:\n",
        "    # Choose a Programming Language: Decide on the programming language you want to use (e.g., Python, C, Java, etc.).\n",
        "    # Open the File: Use the appropriate function or method to open the file. Specify the mode (read, write, append) and any buffering options if applicable.\n",
        "    # Create a Buffer: If the language does not automatically handle buffering, create a buffer (usually an array or list) to temporarily store data.\n",
        "    # Read/Write Data:\n",
        "     #For reading, read data into the buffer from the file in chunks.\n",
        "     #For writing, write data to the buffer and flush it to the file when the buffer is full or when the file is closed.\n",
        "    # Flush the Buffer: Ensure that any remaining data in the buffer is written to the file before closing it.\n",
        "    # Close the File: Properly close the file to release system resources.\n",
        "    # Error Handling: Implement error handling to manage exceptions that may occur during file operations.\n",
        "\n",
        " #Example in Python :\n",
        "# Step 1: Open the file with buffering\n",
        "buffer_size = 10  # Define the buffer size\n",
        "with open('example.txt', 'w', buffering=buffer_size) as file:\n",
        "    # Step 2: Write data to the file using the buffer\n",
        "    for i in range(10):\n",
        "        file.write(f\"This is line {i}\\n\")  # Data is written to the buffer\n",
        "\n",
        "# Step 3: The buffer is automatically flushed when the file is closed\n",
        "# No need to manually flush in this case\n",
        "\n",
        "# Step 4: Read the file with buffering\n",
        "with open('example.txt', 'r', buffering=buffer_size) as file:\n",
        "    # Step 5: Read data from the file using the buffer\n",
        "    while True:\n",
        "        # Read a chunk of data\n",
        "        data = file.read(buffer_size)\n",
        "        if not data:  # Break the loop if no more data\n",
        "         break\n",
        "        print(data)  # Process the data (in this case, print it)\n",
        "\n"
      ],
      "metadata": {
        "colab": {
          "base_uri": "https://localhost:8080/"
        },
        "id": "1lq6JFOmHdUq",
        "outputId": "7d9a0a47-022b-4b3c-b771-f4d391c6f8e3"
      },
      "execution_count": 10,
      "outputs": [
        {
          "output_type": "stream",
          "name": "stdout",
          "text": [
            "This is li\n",
            "ne 0\n",
            "This \n",
            "is line 1\n",
            "\n",
            "This is li\n",
            "ne 2\n",
            "This \n",
            "is line 3\n",
            "\n",
            "This is li\n",
            "ne 4\n",
            "This \n",
            "is line 5\n",
            "\n",
            "This is li\n",
            "ne 6\n",
            "This \n",
            "is line 7\n",
            "\n",
            "This is li\n",
            "ne 8\n",
            "This \n",
            "is line 9\n",
            "\n"
          ]
        }
      ]
    },
    {
      "cell_type": "code",
      "source": [
        "#8. Write a Python function to read a text file using buffered reading and return its contents.\n",
        "\n",
        "def read_file_buffered(file_path, buffer_size=4096):\n",
        "    \"\"\"Reads a text file using buffered reading and returns its content.\"\"\"\n",
        "    content = []\n",
        "\n",
        "    try:\n",
        "        with open(file_path, \"r\", buffering=buffer_size) as file:\n",
        "            while chunk := file.read(buffer_size):  # Read in chunks\n",
        "                content.append(chunk)\n",
        "        return \"\".join(content)  # Combine chunks into a single string\n",
        "    except FileNotFoundError:\n",
        "        return f\"Error: File '{file_path}' not found!\"\n",
        "    except Exception as e:\n",
        "        return f\"Error: {e}\"\n"
      ],
      "metadata": {
        "id": "zMlNrtRMPTTV"
      },
      "execution_count": 11,
      "outputs": []
    },
    {
      "cell_type": "code",
      "source": [
        "#9.What are the advantages of using buffered reading over direct file reading in Python\n",
        "\n",
        "#Buffered reading in Python offers several advantages over direct file reading and they are :\n",
        "#1. Improves Performance:\n",
        " #Reduced I/O Operations: Buffered reading minimizes the number of input/output operations by reading larger chunks of data at once instead of one byte or line at a time. This is particularly beneficial when dealing with large files, as disk access is significantly slower than memory access.\n",
        " #Faster Access: By reading data into a buffer, subsequent read operations can be satisfied from memory, which is much faster than accessing the disk repeatedly.\n",
        "#2. Efficient Resource Utilization:\n",
        " #Lower CPU Overhead: Fewer I/O operations mean less CPU time spent on managing file access, allowing the CPU to perform other tasks more efficiently.\n",
        " #Better Memory Management: Buffered reading allows for more efficient use of system memory, as it can read and process data in larger blocks rather than in small increments.\n",
        "#3. Smoother Data Flow:\n",
        " #Continuous Data Streams: Buffered reading is particularly useful for applications that require continuous data streams, such as video or audio processing. It helps maintain a smooth flow of data, reducing the likelihood of interruptions or delays.\n",
        "#4.  Reduced Latency:\n",
        " #Immediate Availability: When data is read into a buffer, it becomes immediately available for processing, reducing the time it takes to access data after the initial read operation.\n",
        "#5. Error Handling and Recovery:\n",
        " #Easier Error Management: When reading data in larger chunks, it can be easier to manage errors and exceptions, as you can handle them at the buffer level rather than at the individual byte or line level.\n",
        "\n"
      ],
      "metadata": {
        "id": "lgGdLAbMQ631"
      },
      "execution_count": 12,
      "outputs": []
    },
    {
      "cell_type": "code",
      "source": [
        "#10. Write a Python code snippet to append content to a file using buffered writing.\n",
        "\n",
        "# Specify the file name\n",
        "file_name = 'output.txt'\n",
        "\n",
        "# Define the content to append\n",
        "content_to_append = [\n",
        "    \"This is the first line to append.\\n\",\n",
        "    \"This is the second line to append.\\n\",\n",
        "    \"Appending more content is easy with buffered writing!\\n\"\n",
        "]\n",
        "\n",
        "# Open the file in append mode with buffering\n",
        "buffer_size = 1024  # You can specify the buffer size if needed\n",
        "with open(file_name, 'a', buffering=buffer_size) as file:\n",
        "    # Append each line to the file\n",
        "    for line in content_to_append:\n",
        "        file.write(line)  # Write to the buffer\n",
        "\n",
        "# The buffer will be flushed automatically when the file is closed\n",
        "print(f\"Content has been appended to {file_name}.\")"
      ],
      "metadata": {
        "id": "vJrwRdnUXsfg",
        "colab": {
          "base_uri": "https://localhost:8080/"
        },
        "outputId": "0c1f9c02-4938-41c0-e4b6-fa1f4514f2d3"
      },
      "execution_count": 13,
      "outputs": [
        {
          "output_type": "stream",
          "name": "stdout",
          "text": [
            "Content has been appended to output.txt.\n"
          ]
        }
      ]
    },
    {
      "cell_type": "code",
      "source": [
        "#11. Write a Python function that demonstrates the use of close() method on a file.\n",
        "\n",
        "def demonstrate_file_close():\n",
        "    # Specify the file name\n",
        "    file_name = 'example.txt'\n",
        "\n",
        "    # Open the file in write mode\n",
        "    file = open(file_name, 'w')\n",
        "\n",
        "    try:\n",
        "        # Write some content to the file\n",
        "        file.write(\"Hello, World!\\n\")\n",
        "        file.write(\"This is a demonstration of the close() method.\\n\")\n",
        "        print(\"Content written to the file.\")\n",
        "    finally:\n",
        "        # Close the file\n",
        "        file.close()\n",
        "        print(f\"The file '{file_name}' has been closed.\")\n",
        "\n",
        "    # Attempt to read from the file after closing it\n",
        "    try:\n",
        "        with open(file_name, 'r') as file:\n",
        "            content = file.read()\n",
        "            print(\"File content after closing:\")\n",
        "            print(content)\n",
        "    except ValueError as e:\n",
        "        print(\"Error:\", e)\n",
        "\n",
        "# Call the function to demonstrate\n",
        "demonstrate_file_close()\n"
      ],
      "metadata": {
        "colab": {
          "base_uri": "https://localhost:8080/"
        },
        "id": "aRC_1LM2YwQj",
        "outputId": "5f971025-23a2-4417-8b2f-3c456e51cc90"
      },
      "execution_count": 14,
      "outputs": [
        {
          "output_type": "stream",
          "name": "stdout",
          "text": [
            "Content written to the file.\n",
            "The file 'example.txt' has been closed.\n",
            "File content after closing:\n",
            "Hello, World!\n",
            "This is a demonstration of the close() method.\n",
            "\n"
          ]
        }
      ]
    },
    {
      "cell_type": "code",
      "source": [
        "#12. Create a Python function to showcase the detach() method on a file object.\n",
        "\n",
        "def demonstrate_detach():\n",
        "    # Specify the file name\n",
        "    file_name = 'example_binary.txt'\n",
        "\n",
        "    # Open the file in binary write mode\n",
        "    with open(file_name, 'wb') as file:\n",
        "        # Write some binary data to the file\n",
        "        file.write(b'Hello, World!\\n')\n",
        "        file.write(b'This is a demonstration of the detach() method.\\n')\n",
        "\n",
        "    # Open the file in binary read mode\n",
        "    file = open(file_name, 'rb')  # Open the file without 'with' to control the flow\n",
        "    try:\n",
        "        # Detach the underlying buffer\n",
        "        raw_stream = file.detach()\n",
        "\n",
        "        # Now we can read from the raw stream\n",
        "        print(\"Reading from the raw stream:\")\n",
        "        while True:\n",
        "            data = raw_stream.read(16)  # Read 16 bytes at a time\n",
        "            if not data:\n",
        "                break\n",
        "            print(data)  # Print the raw bytes\n",
        "    finally:\n",
        "        # Close the raw stream instead of the original file object\n",
        "        raw_stream.close()\n",
        "        # The original file object (file) is automatically closed when raw_stream is closed\n",
        "\n",
        "# Call the function to demonstrate\n",
        "demonstrate_detach()"
      ],
      "metadata": {
        "colab": {
          "base_uri": "https://localhost:8080/"
        },
        "id": "e2n5Kgl1Z3rx",
        "outputId": "b2c05c2f-62c7-4e1c-e490-ddf5dff98ad4"
      },
      "execution_count": 15,
      "outputs": [
        {
          "output_type": "stream",
          "name": "stdout",
          "text": [
            "Reading from the raw stream:\n",
            "b'Hello, World!\\nTh'\n",
            "b'is is a demonstr'\n",
            "b'ation of the det'\n",
            "b'ach() method.\\n'\n"
          ]
        }
      ]
    },
    {
      "cell_type": "code",
      "source": [
        "#13. Write a Python function to demonstrate the use of the seek() method to change the file position.\n",
        "\n",
        "def demonstrate_seek():\n",
        "    # Specify the file name\n",
        "    file_name = 'example.txt'\n",
        "\n",
        "    # Write some content to the file\n",
        "    with open(file_name, 'w') as file:\n",
        "        file.write(\"Hello, World!\\n\")\n",
        "        file.write(\"This is a demonstration of the seek() method.\\n\")\n",
        "        file.write(\"We can move the file pointer around!\\n\")\n",
        "\n",
        "    # Read the content back using seek\n",
        "    with open(file_name, 'r') as file:\n",
        "        print(\"Original content:\")\n",
        "        print(file.read())  # Read the entire content first\n",
        "\n",
        "        # Move the file pointer to the beginning of the file\n",
        "        file.seek(0)\n",
        "\n",
        "        # Read the first line\n",
        "        first_line = file.readline()\n",
        "        print(\"\\nFirst line after seeking to the beginning:\")\n",
        "        print(first_line.strip())\n",
        "\n",
        "        # Move the file pointer to the start of the second line\n",
        "        file.seek(len(first_line))  # Move to the end of the first line\n",
        "\n",
        "        # Read the second line\n",
        "        second_line = file.readline()\n",
        "        print(\"\\nSecond line after seeking to the start of the second line:\")\n",
        "        print(second_line.strip())\n",
        "\n",
        "        # Move the file pointer to the beginning of the file again\n",
        "        file.seek(0)\n",
        "\n",
        "        # Move to the 7th byte (0-based index)\n",
        "        file.seek(7)\n",
        "        seventh_byte = file.read(1)  # Read one byte\n",
        "        print(\"\\nCharacter at the 7th byte:\")\n",
        "        print(seventh_byte)\n",
        "\n",
        "# Call the function to demonstrate\n",
        "demonstrate_seek()"
      ],
      "metadata": {
        "colab": {
          "base_uri": "https://localhost:8080/"
        },
        "id": "VACGuF0rbe1C",
        "outputId": "e348c46f-9cfd-468c-cf95-4e57bbeefa45"
      },
      "execution_count": 16,
      "outputs": [
        {
          "output_type": "stream",
          "name": "stdout",
          "text": [
            "Original content:\n",
            "Hello, World!\n",
            "This is a demonstration of the seek() method.\n",
            "We can move the file pointer around!\n",
            "\n",
            "\n",
            "First line after seeking to the beginning:\n",
            "Hello, World!\n",
            "\n",
            "Second line after seeking to the start of the second line:\n",
            "This is a demonstration of the seek() method.\n",
            "\n",
            "Character at the 7th byte:\n",
            "W\n"
          ]
        }
      ]
    },
    {
      "cell_type": "code",
      "source": [
        "#14. Create a Python function to return the file descriptor (integer number) of a file using the fileno() method.\n",
        "\n",
        "def get_file_descriptor():\n",
        "    # Specify the file name\n",
        "    file_name = 'example.txt'\n",
        "\n",
        "    # Open the file in write mode\n",
        "    with open(file_name, 'w') as file:\n",
        "        # Write some content to the file\n",
        "        file.write(\"This is a demonstration of the fileno() method.\\n\")\n",
        "\n",
        "        # Get the file descriptor using fileno()\n",
        "        file_descriptor = file.fileno()\n",
        "        print(f\"The file descriptor for '{file_name}' is: {file_descriptor}\")\n",
        "\n",
        "    # The file is automatically closed when exiting the with block\n",
        "\n",
        "# Call the function to demonstrate\n",
        "get_file_descriptor()"
      ],
      "metadata": {
        "colab": {
          "base_uri": "https://localhost:8080/"
        },
        "id": "0tkMKH6bcRMq",
        "outputId": "ad275af3-add7-4da4-90fa-e12b0fa3e9d7"
      },
      "execution_count": 17,
      "outputs": [
        {
          "output_type": "stream",
          "name": "stdout",
          "text": [
            "The file descriptor for 'example.txt' is: 42\n"
          ]
        }
      ]
    },
    {
      "cell_type": "code",
      "source": [
        "#15. Write a Python function to return the current position of the file's object using the tell() method.\n",
        "\n",
        "def get_file_position():\n",
        "    # Specify the file name\n",
        "    file_name = 'example.txt'\n",
        "\n",
        "    # Open the file in write mode\n",
        "    with open(file_name, 'w') as file:\n",
        "        # Write some content to the file\n",
        "        file.write(\"This is a demonstration of the tell() method.\\n\")\n",
        "        file.write(\"We will check the file position after writing.\\n\")\n",
        "\n",
        "        # Get the current position using tell()\n",
        "        position_after_writing = file.tell()\n",
        "        print(f\"Current file position after writing: {position_after_writing}\")\n",
        "\n",
        "    # Open the file in read mode\n",
        "    with open(file_name, 'r') as file:\n",
        "        # Get the current position at the beginning of the file\n",
        "        position_at_start = file.tell()\n",
        "        print(f\"Current file position at the start of reading: {position_at_start}\")\n",
        "\n",
        "        # Read the first line\n",
        "        file.readline()\n",
        "\n",
        "        # Get the current position after reading the first line\n",
        "        position_after_reading = file.tell()\n",
        "        print(f\"Current file position after reading the first line: {position_after_reading}\")\n",
        "\n",
        "# Call the function to demonstrate\n",
        "get_file_position()"
      ],
      "metadata": {
        "colab": {
          "base_uri": "https://localhost:8080/"
        },
        "id": "blv4J8UBcrg3",
        "outputId": "ba74c437-afbd-4a46-e4ac-7eebc5d834da"
      },
      "execution_count": 18,
      "outputs": [
        {
          "output_type": "stream",
          "name": "stdout",
          "text": [
            "Current file position after writing: 93\n",
            "Current file position at the start of reading: 0\n",
            "Current file position after reading the first line: 46\n"
          ]
        }
      ]
    },
    {
      "cell_type": "code",
      "source": [
        "#16. Create a Python program that logs a message to a file using the logging module.\n",
        "\n",
        "import logging\n",
        "\n",
        "def setup_logging(log_file):\n",
        "    # Configure the logging settings\n",
        "    logging.basicConfig(\n",
        "        filename=log_file,          # Specify the log file\n",
        "        level=logging.DEBUG,        # Set the logging level\n",
        "        format='%(asctime)s - %(levelname)s - %(message)s'  # Log message format\n",
        "    )\n",
        "\n",
        "def log_messages():\n",
        "    # Log various messages\n",
        "    logging.debug(\"This is a debug message.\")\n",
        "    logging.info(\"This is an info message.\")\n",
        "    logging.warning(\"This is a warning message.\")\n",
        "    logging.error(\"This is an error message.\")\n",
        "    logging.critical(\"This is a critical message.\")\n",
        "\n",
        "if __name__ == \"__main__\":\n",
        "    log_file = 'application.log'  # Specify the log file name\n",
        "    setup_logging(log_file)        # Set up logging\n",
        "    log_messages()                 # Log messages\n",
        "    print(f\"Log messages have been written to {log_file}.\")"
      ],
      "metadata": {
        "colab": {
          "base_uri": "https://localhost:8080/"
        },
        "id": "B4jrFVURdwIs",
        "outputId": "b8cb6ee7-2852-447b-c092-e586b2a95a4b"
      },
      "execution_count": 19,
      "outputs": [
        {
          "output_type": "stream",
          "name": "stderr",
          "text": [
            "WARNING:root:This is a warning message.\n",
            "ERROR:root:This is an error message.\n",
            "CRITICAL:root:This is a critical message.\n"
          ]
        },
        {
          "output_type": "stream",
          "name": "stdout",
          "text": [
            "Log messages have been written to application.log.\n"
          ]
        }
      ]
    },
    {
      "cell_type": "code",
      "source": [
        "#17. Explain the importance of logging levels in Python's logging module.\n",
        "\n",
        "#Logging levels in Python's logging module are crucial for categorizing log messages based on their severity or importance. They help developers and system administrators filter and manage log output effectively.\n",
        "#1. Categorization of Log Messages\n",
        "  #Logging levels provide a way to categorize messages based on their severity. The standard logging levels in Python are:\n",
        "   #DEBUG: Detailed information, typically of interest only when diagnosing problems. This level is used for low-level system information.\n",
        "   #INFO: Confirmation that things are working as expected. This level is used for general operational messages.\n",
        "   #WARNING: An indication that something unexpected happened, or indicative of some problem in the near future (e.g., ‘disk space low’). The software is still functioning as expected.\n",
        "   #ERROR: Due to a more serious problem, the software has not been able to perform a function.\n",
        "   #CRITICAL: A very serious error, indicating that the program itself may be unable to continue running.\n",
        "#2. Filtering Log Output: By using logging levels, you can control which messages are output based on the current logging configuration. For example, if you set the logging level to WARNING, only messages at the WARNING, ERROR, and CRITICAL levels will be logged. This is particularly useful in production environments where you may want to reduce the volume of log output to only the most critical issues.\n",
        "#3. Improved Readability and Manageability: With logging levels, logs become easier to read and manage. Developers can quickly identify the severity of issues based on the log level. For instance, during debugging, you might want to see all DEBUG messages, but in a production environment, you might only want to see ERROR and CRITICAL messages.\n",
        "#4. Facilitating Troubleshooting: When diagnosing issues, having logs categorized by severity helps developers focus on the most critical problems first. For example, if a system is failing, the ERROR and CRITICAL logs will provide immediate insights into what went wrong, while DEBUG and INFO logs can be consulted if further investigation is needed.\n",
        "#5. Performance Considerations: Logging levels can also help with performance. By setting a higher logging level (e.g., WARNING), you can avoid the overhead of generating and processing lower-level log messages (like DEBUG and INFO) in production environments, which can improve application performance.\n",
        "#6. Custom Logging Levels: While Python provides standard logging levels, you can also define custom logging levels if your application requires more granularity. This allows for even more tailored logging behavior based on specific application needs.\n",
        "#7. Integration with Monitoring Tools: Many monitoring and alerting tools can be configured to respond to specific logging levels. For example, you might set up alerts for ERROR and CRITICAL logs, allowing your operations team to respond quickly to issues.\n",
        "\n"
      ],
      "metadata": {
        "id": "F1-VeKiVeyFS"
      },
      "execution_count": 20,
      "outputs": []
    },
    {
      "cell_type": "code",
      "source": [
        "!pip install ipdb"
      ],
      "metadata": {
        "colab": {
          "base_uri": "https://localhost:8080/"
        },
        "id": "8igz5h4jg4AP",
        "outputId": "01cb3d08-b935-47e7-807c-942e01503301"
      },
      "execution_count": 21,
      "outputs": [
        {
          "output_type": "stream",
          "name": "stdout",
          "text": [
            "Collecting ipdb\n",
            "  Downloading ipdb-0.13.13-py3-none-any.whl.metadata (14 kB)\n",
            "Requirement already satisfied: ipython>=7.31.1 in /usr/local/lib/python3.11/dist-packages (from ipdb) (7.34.0)\n",
            "Requirement already satisfied: decorator in /usr/local/lib/python3.11/dist-packages (from ipdb) (4.4.2)\n",
            "Requirement already satisfied: setuptools>=18.5 in /usr/local/lib/python3.11/dist-packages (from ipython>=7.31.1->ipdb) (75.1.0)\n",
            "Collecting jedi>=0.16 (from ipython>=7.31.1->ipdb)\n",
            "  Downloading jedi-0.19.2-py2.py3-none-any.whl.metadata (22 kB)\n",
            "Requirement already satisfied: pickleshare in /usr/local/lib/python3.11/dist-packages (from ipython>=7.31.1->ipdb) (0.7.5)\n",
            "Requirement already satisfied: traitlets>=4.2 in /usr/local/lib/python3.11/dist-packages (from ipython>=7.31.1->ipdb) (5.7.1)\n",
            "Requirement already satisfied: prompt-toolkit!=3.0.0,!=3.0.1,<3.1.0,>=2.0.0 in /usr/local/lib/python3.11/dist-packages (from ipython>=7.31.1->ipdb) (3.0.50)\n",
            "Requirement already satisfied: pygments in /usr/local/lib/python3.11/dist-packages (from ipython>=7.31.1->ipdb) (2.18.0)\n",
            "Requirement already satisfied: backcall in /usr/local/lib/python3.11/dist-packages (from ipython>=7.31.1->ipdb) (0.2.0)\n",
            "Requirement already satisfied: matplotlib-inline in /usr/local/lib/python3.11/dist-packages (from ipython>=7.31.1->ipdb) (0.1.7)\n",
            "Requirement already satisfied: pexpect>4.3 in /usr/local/lib/python3.11/dist-packages (from ipython>=7.31.1->ipdb) (4.9.0)\n",
            "Requirement already satisfied: parso<0.9.0,>=0.8.4 in /usr/local/lib/python3.11/dist-packages (from jedi>=0.16->ipython>=7.31.1->ipdb) (0.8.4)\n",
            "Requirement already satisfied: ptyprocess>=0.5 in /usr/local/lib/python3.11/dist-packages (from pexpect>4.3->ipython>=7.31.1->ipdb) (0.7.0)\n",
            "Requirement already satisfied: wcwidth in /usr/local/lib/python3.11/dist-packages (from prompt-toolkit!=3.0.0,!=3.0.1,<3.1.0,>=2.0.0->ipython>=7.31.1->ipdb) (0.2.13)\n",
            "Downloading ipdb-0.13.13-py3-none-any.whl (12 kB)\n",
            "Downloading jedi-0.19.2-py2.py3-none-any.whl (1.6 MB)\n",
            "\u001b[2K   \u001b[90m━━━━━━━━━━━━━━━━━━━━━━━━━━━━━━━━━━━━━━━━\u001b[0m \u001b[32m1.6/1.6 MB\u001b[0m \u001b[31m25.5 MB/s\u001b[0m eta \u001b[36m0:00:00\u001b[0m\n",
            "\u001b[?25hInstalling collected packages: jedi, ipdb\n",
            "Successfully installed ipdb-0.13.13 jedi-0.19.2\n"
          ]
        }
      ]
    },
    {
      "cell_type": "code",
      "source": [
        "#18. Create a Python program that uses the debugger to find the value of a variable inside a loop.\n",
        "\n",
        "import ipdb\n",
        "\n",
        "def calculate_squares(n):\n",
        "    squares = []\n",
        "    for i in range(n):\n",
        "        ipdb.set_trace()  # This will start the ipdb debugger\n",
        "        square = i ** 2\n",
        "        squares.append(square)\n",
        "    return squares\n",
        "\n",
        "if __name__ == \"__main__\":\n",
        "    n = 5\n",
        "    result = calculate_squares(n)\n",
        "    print(\"Squares:\", result)"
      ],
      "metadata": {
        "id": "itn9wC0djTxT"
      },
      "execution_count": null,
      "outputs": []
    },
    {
      "cell_type": "code",
      "source": [
        "#19. Create a Python program that demonstrates setting breakpoints and inspecting variables using the debugger.\n",
        "\n",
        "import ipdb\n",
        "\n",
        "def factorial(n):\n",
        "    if n < 0:\n",
        "        raise ValueError(\"Factorial is not defined for negative numbers.\")\n",
        "    result = 1\n",
        "    for i in range(1, n + 1):\n",
        "        ipdb.set_trace()  # Set a breakpoint here to inspect the value of 'i' and 'result'\n",
        "        result *= i\n",
        "    return result\n",
        "\n",
        "if __name__ == \"__main__\":\n",
        "    number = 5\n",
        "    print(f\"Calculating the factorial of {number}...\")\n",
        "    result = factorial(number)\n",
        "    print(f\"The factorial of {number} is: {result}\")"
      ],
      "metadata": {
        "id": "1nrF712okAJP"
      },
      "execution_count": null,
      "outputs": []
    },
    {
      "cell_type": "code",
      "source": [
        "#20. Create a Python program that uses the debugger to trace a recursive function.\n",
        "\n",
        "import ipdb\n",
        "\n",
        "def fibonacci(n):\n",
        "    \"\"\"Recursive function to calculate Fibonacci numbers.\"\"\"\n",
        "    ipdb.set_trace()  # Debugging starts here\n",
        "    if n <= 1:\n",
        "        return n\n",
        "    return fibonacci(n - 1) + fibonacci(n - 2)\n",
        "\n",
        "# Call the function and debug\n",
        "num = 5  # Change this to test different values\n",
        "print(f\"Fibonacci({num}) = {fibonacci(num)}\")\n",
        "\n"
      ],
      "metadata": {
        "colab": {
          "base_uri": "https://localhost:8080/",
          "height": 383
        },
        "id": "VCWXEp_yk2B2",
        "outputId": "94ae76a4-0a23-4920-c9b5-9e5ccaf71f8c"
      },
      "execution_count": 1,
      "outputs": [
        {
          "output_type": "error",
          "ename": "ModuleNotFoundError",
          "evalue": "No module named 'ipdb'",
          "traceback": [
            "\u001b[0;31m---------------------------------------------------------------------------\u001b[0m",
            "\u001b[0;31mModuleNotFoundError\u001b[0m                       Traceback (most recent call last)",
            "\u001b[0;32m<ipython-input-1-f72aad55782b>\u001b[0m in \u001b[0;36m<cell line: 0>\u001b[0;34m()\u001b[0m\n\u001b[1;32m      1\u001b[0m \u001b[0;31m#20. Create a Python program that uses the debugger to trace a recursive function.\u001b[0m\u001b[0;34m\u001b[0m\u001b[0;34m\u001b[0m\u001b[0m\n\u001b[1;32m      2\u001b[0m \u001b[0;34m\u001b[0m\u001b[0m\n\u001b[0;32m----> 3\u001b[0;31m \u001b[0;32mimport\u001b[0m \u001b[0mipdb\u001b[0m\u001b[0;34m\u001b[0m\u001b[0;34m\u001b[0m\u001b[0m\n\u001b[0m\u001b[1;32m      4\u001b[0m \u001b[0;34m\u001b[0m\u001b[0m\n\u001b[1;32m      5\u001b[0m \u001b[0;32mdef\u001b[0m \u001b[0mfibonacci\u001b[0m\u001b[0;34m(\u001b[0m\u001b[0mn\u001b[0m\u001b[0;34m)\u001b[0m\u001b[0;34m:\u001b[0m\u001b[0;34m\u001b[0m\u001b[0;34m\u001b[0m\u001b[0m\n",
            "\u001b[0;31mModuleNotFoundError\u001b[0m: No module named 'ipdb'",
            "",
            "\u001b[0;31m---------------------------------------------------------------------------\u001b[0;32m\nNOTE: If your import is failing due to a missing package, you can\nmanually install dependencies using either !pip or !apt.\n\nTo view examples of installing some common dependencies, click the\n\"Open Examples\" button below.\n\u001b[0;31m---------------------------------------------------------------------------\u001b[0m\n"
          ],
          "errorDetails": {
            "actions": [
              {
                "action": "open_url",
                "actionText": "Open Examples",
                "url": "/notebooks/snippets/importing_libraries.ipynb"
              }
            ]
          }
        }
      ]
    },
    {
      "cell_type": "code",
      "source": [
        "#21. Write a try-except block to handle a ZeroDivisionError.\n",
        "\n",
        "def divide_numbers(num1, num2):\n",
        "    try:\n",
        "        result = num1 / num2\n",
        "    except ZeroDivisionError:\n",
        "        print(\"Error: You cannot divide by zero.\")\n",
        "        return None  # Return None or any other value to indicate an error\n",
        "    else:\n",
        "        print(f\"The result of {num1} divided by {num2} is: {result}\")\n",
        "        return result\n",
        "\n",
        "if __name__ == \"__main__\":\n",
        "    # Test cases\n",
        "    print(\"Test Case 1: Dividing 10 by 2\")\n",
        "    divide_numbers(10, 2)  # This should work\n",
        "\n",
        "    print(\"\\nTest Case 2: Dividing 10 by 0\")\n",
        "    divide_numbers(10, 0)  # This should raise a ZeroDivisionError"
      ],
      "metadata": {
        "colab": {
          "base_uri": "https://localhost:8080/"
        },
        "id": "NdjNoIaYlU3F",
        "outputId": "7a2ea5b6-2a7d-465c-8f4f-6bc65118b70e"
      },
      "execution_count": 2,
      "outputs": [
        {
          "output_type": "stream",
          "name": "stdout",
          "text": [
            "Test Case 1: Dividing 10 by 2\n",
            "The result of 10 divided by 2 is: 5.0\n",
            "\n",
            "Test Case 2: Dividing 10 by 0\n",
            "Error: You cannot divide by zero.\n"
          ]
        }
      ]
    },
    {
      "cell_type": "code",
      "source": [
        "#22.How does the else block work with try-except.\n",
        "\n",
        "#Execution Flow:\n",
        " #The code inside the try block is executed first.\n",
        " #If an exception occurs, the control is transferred to the corresponding except block that matches the exception type.\n",
        " #If no exception occurs, the code inside the else block is executed.\n",
        "#Purpose: The else block is useful for code that should only run if the try block was successful and did not raise any exceptions. This can help avoid unnecessary indentation and keep the code organized.\n",
        "#Structure: The else block must be placed after all except blocks and before any finally block (if present).\n",
        "\n",
        "#example -\n",
        "def divide_numbers(num1, num2):\n",
        "    try:\n",
        "        result = num1 / num2\n",
        "    except ZeroDivisionError:\n",
        "        print(\"Error: You cannot divide by zero.\")\n",
        "        return None\n",
        "    else:\n",
        "        print(f\"The result of {num1} divided by {num2} is: {result}\")\n",
        "        return result\n",
        "\n",
        "if __name__ == \"__main__\":\n",
        "    # Test cases\n",
        "    divide_numbers(10, 2)  # This should work\n",
        "    divide_numbers(10, 0)  # This should raise a ZeroDivisionError"
      ],
      "metadata": {
        "colab": {
          "base_uri": "https://localhost:8080/"
        },
        "id": "Z5dqqNRVmaOQ",
        "outputId": "918cd149-af56-4186-ff61-99868c61a8b4"
      },
      "execution_count": 3,
      "outputs": [
        {
          "output_type": "stream",
          "name": "stdout",
          "text": [
            "The result of 10 divided by 2 is: 5.0\n",
            "Error: You cannot divide by zero.\n"
          ]
        }
      ]
    },
    {
      "cell_type": "code",
      "source": [
        "#23. Implement a try-except-else block to open and read a file.\n",
        "\n",
        "def read_file(file_path):\n",
        "    try:\n",
        "        # Attempt to open the file\n",
        "        file = open(file_path, 'r')\n",
        "    except FileNotFoundError:\n",
        "        # Handle the case where the file does not exist\n",
        "        print(f\"Error: The file '{file_path}' was not found.\")\n",
        "        return None\n",
        "    except IOError:\n",
        "        # Handle other I/O errors\n",
        "        print(f\"Error: An I/O error occurred while trying to read the file '{file_path}'.\")\n",
        "        return None\n",
        "    else:\n",
        "        # If no exceptions occurred, read the file content\n",
        "        content = file.read()\n",
        "        print(\"File content:\")\n",
        "        print(content)\n",
        "        return content\n",
        "    finally:\n",
        "        # Ensure the file is closed if it was opened\n",
        "        if 'file' in locals():\n",
        "            file.close()\n",
        "\n",
        "if __name__ == \"__main__\":\n",
        "    # Specify the path to the file you want to read\n",
        "    file_path = 'example.txt'  # Change this to a valid file path\n",
        "    read_file(file_path)"
      ],
      "metadata": {
        "id": "D7vESlc8oIEC"
      },
      "execution_count": 21,
      "outputs": []
    },
    {
      "cell_type": "code",
      "source": [
        "#24. What is the purpose of the finally block in exception handling.\n",
        "\n",
        "#The finally block in Python's exception handling mechanism serves a crucial purpose: it allows you to define code that will always be executed, regardless of whether an exception was raised or not. This is particularly useful for resource management and cleanup operations.\n",
        "#Guaranteed Execution: The code inside the finally block is guaranteed to run after the try block, regardless of whether an exception occurred or was caught. This means that even if an error occurs, the finally block will still execute.\n",
        "#Resource Cleanup: The finally block is commonly used to release resources that were acquired in the try block. For example, if you open a file or a network connection, you can ensure that it is closed in the finally block, preventing resource leaks.\n",
        "#Consistent State: It helps maintain a consistent state in your application by ensuring that certain cleanup actions are always performed, such as resetting variables or closing connections.\n",
        "#Error Logging: You can use the finally block to log errors or perform other actions that should occur regardless of whether an exception was raised."
      ],
      "metadata": {
        "id": "RfGzCntfp4oB"
      },
      "execution_count": null,
      "outputs": []
    },
    {
      "cell_type": "code",
      "source": [
        "#25. Write a try-except-finally block to handle a ValueError.\n",
        "\n",
        "try:\n",
        "    num = int(input(\"Enter a number: \"))  # This might raise a ValueError\n",
        "    print(f\"You entered: {num}\")\n",
        "except ValueError:\n",
        "    print(\"Invalid input! Please enter a valid integer.\")\n",
        "finally:\n",
        "    print(\"Execution completed.\")\n"
      ],
      "metadata": {
        "colab": {
          "base_uri": "https://localhost:8080/"
        },
        "id": "71KwXbnerzzy",
        "outputId": "d0899cdc-0599-408f-908b-3a796b638ce7"
      },
      "execution_count": 22,
      "outputs": [
        {
          "output_type": "stream",
          "name": "stdout",
          "text": [
            "Enter a number: 1\n",
            "You entered: 1\n",
            "Execution completed.\n"
          ]
        }
      ]
    },
    {
      "cell_type": "code",
      "source": [
        "#26. How multiple except blocks work in Python?\n",
        "\n",
        "try:\n",
        "    num = int(input(\"Enter a number: \"))  # Might raise ValueError\n",
        "    result = 10 / num  # Might raise ZeroDivisionError\n",
        "    print(\"Result:\", result)\n",
        "except ValueError:\n",
        "    print(\"Invalid input! Please enter a valid integer.\")\n",
        "except ZeroDivisionError:\n",
        "    print(\"Error! Division by zero is not allowed.\")\n",
        "except Exception as e:\n",
        "    print(f\"An unexpected error occurred: {e}\")\n",
        "finally:\n",
        "    print(\"Execution completed.\")\n"
      ],
      "metadata": {
        "colab": {
          "base_uri": "https://localhost:8080/"
        },
        "id": "e1Fyg3STsCt2",
        "outputId": "886e4997-18a5-461f-cba9-eb34e9fc5e03"
      },
      "execution_count": 24,
      "outputs": [
        {
          "output_type": "stream",
          "name": "stdout",
          "text": [
            "Enter a number: 5\n",
            "Result: 2.0\n",
            "Execution completed.\n"
          ]
        }
      ]
    },
    {
      "cell_type": "code",
      "source": [
        "#27. What is a custom exception in Python?\n",
        "#A custom exception in Python is a user-defined exception class that extends the built-in Exception class. This is useful when you need to define specific error conditions that the built-in exceptions do not cover.\n",
        "#example -\n",
        "class InvalidAgeError(Exception):  # Custom exception class\n",
        "    def __init__(self, message=\"Age must be between 18 and 60\"):\n",
        "        self.message = message\n",
        "        super().__init__(self.message)\n",
        "\n",
        "# Using the custom exception\n",
        "try:\n",
        "    age = int(input(\"Enter your age: \"))\n",
        "    if age < 18 or age > 60:\n",
        "        raise InvalidAgeError  # Raising the custom exception\n",
        "    print(\"Valid age entered!\")\n",
        "except InvalidAgeError as e:\n",
        "    print(f\"Error: {e}\")\n",
        "except ValueError:\n",
        "    print(\"Invalid input! Please enter a numeric value.\")\n"
      ],
      "metadata": {
        "colab": {
          "base_uri": "https://localhost:8080/"
        },
        "id": "DMx1vlbRsxcr",
        "outputId": "ca40ad0c-56b9-4685-c03f-c7a996321218"
      },
      "execution_count": 23,
      "outputs": [
        {
          "output_type": "stream",
          "name": "stdout",
          "text": [
            "Enter your age: 13\n",
            "Error: Age must be between 18 and 60\n"
          ]
        }
      ]
    },
    {
      "cell_type": "code",
      "source": [
        "#28. Create a custom exception class with a message.\n",
        "\n",
        "class CustomError(Exception):\n",
        "    \"\"\"Custom exception with a message.\"\"\"\n",
        "    def __init__(self, message=\"This is a custom error!\"):\n",
        "        self.message = message\n",
        "        super().__init__(self.message)\n",
        "\n",
        "# Using the custom exception\n",
        "try:\n",
        "    raise CustomError(\"Something went wrong!\")  # Raising the exception\n",
        "except CustomError as e:\n",
        "    print(f\"Error: {e}\")\n"
      ],
      "metadata": {
        "id": "sFMDazy9uCzU"
      },
      "execution_count": null,
      "outputs": []
    },
    {
      "cell_type": "code",
      "source": [
        "#29. Write a code to raise a custom exception in Python?\n",
        "\n",
        "class AgeError(Exception):\n",
        "    \"\"\"Custom exception for invalid age.\"\"\"\n",
        "    def __init__(self, message=\"Age must be between 18 and 60.\"):\n",
        "        self.message = message\n",
        "        super().__init__(self.message)\n",
        "\n",
        "# Function that raises the custom exception\n",
        "def check_age(age):\n",
        "    if age < 18 or age > 60:\n",
        "        raise AgeError(f\"Invalid age: {age}. Age must be between 18 and 60.\")\n",
        "    print(\"Age is valid!\")\n",
        "\n",
        "# Testing the exception\n",
        "try:\n",
        "    user_age = int(input(\"Enter your age: \"))\n",
        "    check_age(user_age)\n",
        "except AgeError as e:\n",
        "    print(f\"Custom Exception Caught: {e}\")\n",
        "except ValueError:\n",
        "    print(\"Invalid input! Please enter a number.\")\n"
      ],
      "metadata": {
        "id": "v6Mr0CGmwWBX"
      },
      "execution_count": null,
      "outputs": []
    },
    {
      "cell_type": "code",
      "source": [
        "#30. Write a function that raises a custom exception when a value is negative.\n",
        "\n",
        "class NegativeValueError(Exception):\n",
        "    \"\"\"Custom exception for negative values.\"\"\"\n",
        "    def __init__(self, value, message=\"Negative values are not allowed!\"):\n",
        "        self.value = value\n",
        "        self.message = f\"{message} (Received: {value})\"\n",
        "        super().__init__(self.message)\n",
        "\n",
        "# Function that raises the custom exception\n",
        "def check_positive(value):\n",
        "    if value < 0:\n",
        "        raise NegativeValueError(value)  # Raising the custom exception\n",
        "    print(f\"Valid input: {value}\")\n",
        "\n",
        "# Testing the function\n",
        "try:\n",
        "    num = int(input(\"Enter a number: \"))\n",
        "    check_positive(num)\n",
        "except NegativeValueError as e:\n",
        "    print(f\"Custom Exception Caught: {e}\")\n",
        "except ValueError:\n",
        "    print(\"Invalid input! Please enter a number.\")\n"
      ],
      "metadata": {
        "id": "OMKos7Ot0VKw"
      },
      "execution_count": null,
      "outputs": []
    },
    {
      "cell_type": "code",
      "source": [
        "#31. What is the role of try, except, else, and finally in handling exceptions.\n",
        "\n",
        "#try Block (Main Code Execution):\n",
        "  #Contains the code that might raise an exception.\n",
        "  #If an exception occurs, Python jumps to the except block.\n",
        "\n",
        "#except Block (Handling Errors):\n",
        "  #Catches specific exceptions and prevents program crashes.\n",
        "  #You can handle multiple exceptions.\n",
        "\n",
        "#else Block (Runs If No Exception)\n",
        "  #Executes only if no exception occurs in the try block.\n",
        "\n",
        "#finally Block (Always Executes)\n",
        "  #Runs no matter what, whether an exception occurs or not.\n",
        "  #Used for cleanup (e.g., closing files or releasing resources).\n",
        "\n",
        "#example-\n",
        "\n",
        "try:\n",
        "    num = int(input(\"Enter a number: \"))\n",
        "    result = 10 / num\n",
        "except ValueError:\n",
        "    print(\"Invalid input! Enter a number.\")\n",
        "except ZeroDivisionError:\n",
        "    print(\"Error! Cannot divide by zero.\")\n",
        "else:\n",
        "    print(f\"Valid input! The result is {result}\")\n",
        "finally:\n",
        "    print(\"Execution completed. Cleaning up resources...\")\n"
      ],
      "metadata": {
        "id": "wwtGaBSZ0jX6"
      },
      "execution_count": null,
      "outputs": []
    },
    {
      "cell_type": "code",
      "source": [
        "#32. How can custom exceptions improve code readability and maintainability.\n",
        "\n",
        "#Custom exceptions can significantly improve the readability and maintainability of your code in several ways. they are -\n",
        "#1. Clearer Error Reporting\n",
        "   #Custom exceptions provide more meaningful and specific error messages compared to generic exceptions.\n",
        "   #This helps developers quickly understand the root cause of the issue without guessing or reading through a long traceback.\n",
        "\n",
        "#2. Easier to Debug and Trace\n",
        "   #Custom exceptions can be used to group related errors, making it easier to track down where specific issues are happening in your application.\n",
        "   #If you catch and handle exceptions separately, the logic becomes more modular and easier to debug.\n",
        "\n",
        "#3. Better Code Organization\n",
        "   #By defining custom exceptions, you can group related exceptions into specific classes, making the overall structure of your code more organized.\n",
        "   #This leads to cleaner error-handling code and avoids cluttering your logic with general-purpose exception handling.\n",
        "\n",
        "#4. Easier to Extend the Code\n",
        "   #As your code evolves, custom exceptions can be easily extended to add more specialized functionality.\n",
        "   #Custom exceptions can have additional attributes (like error codes or logging information) that provide more context, which is harder to achieve with standard exceptions.\n",
        "\n",
        "#5. Separation of Concerns\n",
        "   #Custom exceptions help in separating different concerns (e.g., business logic vs. error handling), making your code more maintainable and scalable.\n",
        "   #You can catch and handle specific exceptions only where they are needed, without interfering with other parts of your program.\n",
        "\n",
        "#6.Better Integration with Logging\n",
        "  #Custom exceptions allow for customized logging messages, helping you track and log errors with more context.\n",
        "  #This makes it easier to monitor and debug your application in production."
      ],
      "metadata": {
        "id": "uKTVpaBA2x6n"
      },
      "execution_count": null,
      "outputs": []
    },
    {
      "cell_type": "code",
      "source": [
        "#33. What is multithreading?\n",
        "\n",
        "#Multithreading is a concurrent execution technique that allows a CPU (or a single core) to execute multiple threads simultaneously within a single process. A thread is the smallest unit of a CPU's execution, and each thread can run a separate part of a program.\n",
        "#Threads within a process share the same memory space, which makes communication between them easier and faster than in multiprocessing, but also introduces the potential for conflicts (race conditions) that need to be managed.\n"
      ],
      "metadata": {
        "id": "CMDHHOLs7HXs"
      },
      "execution_count": null,
      "outputs": []
    },
    {
      "cell_type": "code",
      "source": [
        "#34. Create a thread in Python?\n",
        "\n",
        "import threading\n",
        "import time\n",
        "\n",
        "# Function to be run by the thread\n",
        "def print_numbers():\n",
        "    for i in range(5):\n",
        "        time.sleep(1)  # Simulate some work by sleeping for 1 second\n",
        "        print(i)\n",
        "\n",
        "# Create a new thread to run the print_numbers function\n",
        "thread = threading.Thread(target=print_numbers)\n",
        "\n",
        "# Start the thread\n",
        "thread.start()\n",
        "\n",
        "# Wait for the thread to finish (optional)\n",
        "thread.join()\n",
        "\n",
        "print(\"Thread has finished.\")\n"
      ],
      "metadata": {
        "id": "oXvkz5Vu7jfM"
      },
      "execution_count": null,
      "outputs": []
    },
    {
      "cell_type": "code",
      "source": [
        "#35. What is the Global Interpreter Lock (GIL) in Python?\n",
        "\n",
        "#The Global Interpreter Lock (GIL) is a mutex (a mutual exclusion lock) in Python that only allows one thread to execute Python bytecodes at a time within a single process. It effectively prevents multi-threaded Python programs from fully utilizing the multiple cores of a CPU for CPU-bound tasks (tasks that require heavy computation).\n",
        "#The GIL exists because Python's memory management (especially for reference counting in its garbage collection system) is not thread-safe. Without the GIL, managing memory and resources between multiple threads could lead to race conditions and data corruption. The GIL simplifies the design of CPython (the default implementation of Python), making it easier to implement certain features, but it comes at the cost of parallelism.\n"
      ],
      "metadata": {
        "id": "pgoQ5Gbb7zaK"
      },
      "execution_count": null,
      "outputs": []
    },
    {
      "cell_type": "code",
      "source": [
        "#36.  Implement a simple multithreading example in Python.\n",
        "\n",
        "# Function to print numbers\n",
        "def print_numbers():\n",
        "    for i in range(5):\n",
        "        time.sleep(1)  # Simulate a time-consuming task\n",
        "        print(f\"Number: {i}\")\n",
        "\n",
        "# Function to print letters\n",
        "def print_letters():\n",
        "    for letter in \"ABCDE\":\n",
        "        time.sleep(1.5)  # Simulate a different time-consuming task\n",
        "        print(f\"Letter: {letter}\")\n",
        "\n",
        "# Create two threads\n",
        "thread1 = threading.Thread(target=print_numbers)\n",
        "thread2 = threading.Thread(target=print_letters)\n",
        "\n",
        "# Start the threads\n",
        "thread1.start()\n",
        "thread2.start()\n",
        "\n",
        "# Wait for both threads to finish\n",
        "thread1.join()\n",
        "thread2.join()\n",
        "\n",
        "print(\"Both threads have finished.\")\n"
      ],
      "metadata": {
        "id": "P77ECH1H8MlQ"
      },
      "execution_count": null,
      "outputs": []
    },
    {
      "cell_type": "code",
      "source": [
        "#37. What is the purpose of the `join()` method in threading?\n",
        "\n",
        "#The join() method in Python’s threading module is used to wait for a thread to complete before moving on with the rest of the program. When you call join() on a thread, it blocks the execution of the main thread (or any thread that calls join()) until the thread you called join() on finishes its execution. This method ensures that threads finish their tasks before the program proceeds or exits, which is especially useful when you want to ensure all tasks are completed before moving on to the next step.\n",
        "# Function to simulate a task\n",
        "def print_numbers():\n",
        "    for i in range(5):\n",
        "        time.sleep(1)\n",
        "        print(f\"Number: {i}\")\n",
        "\n",
        "# Create a thread\n",
        "thread1 = threading.Thread(target=print_numbers)\n",
        "\n",
        "# Start the thread\n",
        "thread1.start()\n",
        "\n",
        "# Wait for the thread to complete before continuing\n",
        "thread1.join()\n",
        "\n",
        "print(\"Thread has finished.\")"
      ],
      "metadata": {
        "id": "GZtldmKA8pav"
      },
      "execution_count": null,
      "outputs": []
    },
    {
      "cell_type": "code",
      "source": [
        "#38. Describe a scenario where multithreading would be beneficial in Python?\n",
        "\n",
        "#Scenario: Web Scraping Multiple Websites Simultaneously\n",
        "#One of the most common scenarios where multithreading in Python is beneficial is when performing tasks that involve I/O-bound operations, such as web scraping multiple websites simultaneously.\n",
        "#Problem Statement: Suppose you want to scrape data from multiple websites to gather information for a report. Each website requires a separate HTTP request, and since HTTP requests are I/O-bound (i.e., they spend a lot of time waiting for a server response), waiting for each request to finish before making the next one can be inefficient and slow.\n",
        "#How Multithreading Helps: With multithreading, you can send multiple HTTP requests concurrently, allowing you to scrape data from several websites in parallel instead of waiting for each request to complete sequentially. This significantly speeds up the process because while one thread is waiting for a server’s response, other threads can continue making requests and processing data.\n",
        "#Why Multithreading Works Well Here:\n",
        "  #I/O-bound tasks: HTTP requests are I/O-bound, meaning they spend a lot of time waiting for a server to respond. This is where multithreading shines because the threads don't block each other from running while they wait for external resources (in this case, the server).\n",
        "  #Parallelism: Although Python’s Global Interpreter Lock (GIL) might prevent CPU-bound tasks from fully utilizing multiple cores, I/O-bound tasks like web scraping can still be handled efficiently with multithreading.\n"
      ],
      "metadata": {
        "id": "2lwGBkwG9DGw"
      },
      "execution_count": null,
      "outputs": []
    },
    {
      "cell_type": "code",
      "source": [
        "#39. What is Multiprocessing in Python?\n",
        "\n",
        "#Multiprocessing is a module in Python that allows the program to create multiple processes, each running independently and concurrently, utilizing multiple CPU cores. Unlike multithreading, where multiple threads share the same memory space, multiprocessing creates separate memory spaces for each process, effectively bypassing the Global Interpreter Lock (GIL). This makes it especially beneficial for CPU-bound tasks that require heavy computation and need to utilize multiple CPU cores.\n"
      ],
      "metadata": {
        "id": "jnMwbQRO9ssr"
      },
      "execution_count": null,
      "outputs": []
    },
    {
      "cell_type": "code",
      "source": [
        "#40. How is multiprocessing different from multithreading in Python?\n",
        "\n",
        "#The differences are:\n",
        "\n",
        "#Multithreading:\n",
        "  #Suitable for I/O-bound tasks (e.g., network requests, file I/O).\n",
        "  #Threads share the same memory space.\n",
        "  #Limited by Global Interpreter Lock (GIL) in Python, so it doesn't achieve true parallelism for CPU-bound tasks.\n",
        "  #Lightweight with low overhead.\n",
        "\n",
        "#Multiprocessing:\n",
        "  #Suitable for CPU-bound tasks (e.g., heavy computations).\n",
        "  #Each process has its own memory space and runs on a separate CPU core.\n",
        "  #True parallelism (bypasses the GIL), fully utilizing multiple CPU cores.\n",
        "  #Higher memory usage and overhead due to process creation."
      ],
      "metadata": {
        "id": "eSIzpUaU93Y9"
      },
      "execution_count": null,
      "outputs": []
    },
    {
      "cell_type": "code",
      "source": [
        "#41. Create a process using the multiprocessing module in Python?\n",
        "\n",
        "import multiprocessing\n",
        "\n",
        "# Function to be executed by the process\n",
        "def print_message():\n",
        "    print(\"Hello from the new process!\")\n",
        "\n",
        "if __name__ == \"__main__\":\n",
        "    # Create a new process\n",
        "    process = multiprocessing.Process(target=print_message)\n",
        "\n",
        "    # Start the process\n",
        "    process.start()\n",
        "\n",
        "    # Wait for the process to complete\n",
        "    process.join()\n",
        "\n",
        "    print(\"Main process has finished.\")\n"
      ],
      "metadata": {
        "id": "vbTvY3_G-j3B"
      },
      "execution_count": null,
      "outputs": []
    },
    {
      "cell_type": "code",
      "source": [
        "#42.Explain the concept of Pool in the multiprocessing module.\n",
        "\n",
        "#Concept of Pool in the multiprocessing Module: In Python’s multiprocessing module, the Pool class is used to create a pool of worker processes that can execute tasks concurrently. It is useful when you need to perform a set of similar operations across multiple inputs, especially for CPU-bound tasks. The Pool class provides a way to parallelize work by distributing tasks to multiple processes in the pool.The Pool class simplifies parallel execution and is an abstraction that allows you to manage and distribute work to multiple processes with minimal effort.\n",
        "#Key Features of Pool:\n",
        "  #Task Parallelism: It helps in parallelizing tasks, distributing them across multiple processes in the pool.\n",
        "  #Process Pooling: Instead of manually managing multiple processes, the Pool class allows you to define how many processes should run in parallel and automatically distributes the work across these processes.\n",
        "  #Efficient Resource Usage: It allows you to take advantage of multiple CPU cores to execute functions in parallel, improving the performance of CPU-bound tasks.\n"
      ],
      "metadata": {
        "id": "4X5U0sKU-t0M"
      },
      "execution_count": null,
      "outputs": []
    },
    {
      "cell_type": "code",
      "source": [
        "#43. Explain inter-process communication in multiprocessing.\n",
        "\n",
        "#Inter-Process Communication (IPC) in Multiprocessing :\n",
        "  #Inter-process communication (IPC) refers to the mechanisms used to enable processes to communicate with each other and share data. In Python’s multiprocessing module, IPC is crucial because each process runs in its own memory space, and they cannot directly access each other's memory. To enable communication between processes, Python provides several tools for IPC within the multiprocessing module.\n",
        "\n"
      ],
      "metadata": {
        "id": "60c4w-H5_g93"
      },
      "execution_count": null,
      "outputs": []
    }
  ]
}