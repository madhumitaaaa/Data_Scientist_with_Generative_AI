{
  "nbformat": 4,
  "nbformat_minor": 0,
  "metadata": {
    "colab": {
      "provenance": [],
      "authorship_tag": "ABX9TyNjoe6PuFfBZqGh6NvnYMD4",
      "include_colab_link": true
    },
    "kernelspec": {
      "name": "python3",
      "display_name": "Python 3"
    },
    "language_info": {
      "name": "python"
    }
  },
  "cells": [
    {
      "cell_type": "markdown",
      "metadata": {
        "id": "view-in-github",
        "colab_type": "text"
      },
      "source": [
        "<a href=\"https://colab.research.google.com/github/madhumitaaaa/NumPy_Assignment/blob/main/Untitled7.ipynb\" target=\"_parent\"><img src=\"https://colab.research.google.com/assets/colab-badge.svg\" alt=\"Open In Colab\"/></a>"
      ]
    },
    {
      "cell_type": "code",
      "execution_count": 32,
      "metadata": {
        "colab": {
          "base_uri": "https://localhost:8080/"
        },
        "id": "eHWJKtGZnAio",
        "outputId": "e07ae6b4-9fce-45a5-a9ad-caa1de4bf40e"
      },
      "outputs": [
        {
          "output_type": "stream",
          "name": "stdout",
          "text": [
            "Array: [0 1 2 3 4 5]\n",
            "Data type: int64\n"
          ]
        }
      ],
      "source": [
        "import numpy as np\n",
        "import pandas as pd\n",
        "\n",
        "# 1. Create a NumPy array 'arr' of integers from 0 to 5 and print its data type.\n",
        "arr = np.arange(6)\n",
        "print(\"Array:\", arr)\n",
        "print(\"Data type:\", arr.dtype)\n",
        "\n",
        "\n"
      ]
    },
    {
      "cell_type": "code",
      "source": [],
      "metadata": {
        "id": "m3I0a8c6dLZM"
      },
      "execution_count": null,
      "outputs": []
    },
    {
      "cell_type": "code",
      "source": [
        "# 2. Check if the data type of 'arr' is float64.\n",
        "arr = np.array([1.0, 2.0, 3.0], dtype=np.float64)\n",
        "\n",
        "is_float64 = arr.dtype == np.float64\n",
        "print(\"Is 'arr' of type float64?\", is_float64)"
      ],
      "metadata": {
        "colab": {
          "base_uri": "https://localhost:8080/"
        },
        "id": "bvMqHidsnryO",
        "outputId": "efc6cd95-2bb6-43a5-fe5d-629b21661dba"
      },
      "execution_count": 7,
      "outputs": [
        {
          "output_type": "stream",
          "name": "stdout",
          "text": [
            "Is 'arr' of type float64? True\n"
          ]
        }
      ]
    },
    {
      "cell_type": "code",
      "source": [
        "# 3. Create a NumPy array 'arr' with a data type of complex128 containing three complex numbers.\n",
        "complex_arr = np.array([1+2j, 3+4j, 5+6j], dtype=np.complex128)\n",
        "print(\"Complex array:\", complex_arr)\n",
        "\n"
      ],
      "metadata": {
        "colab": {
          "base_uri": "https://localhost:8080/"
        },
        "id": "5Tu0PQc9n__T",
        "outputId": "6a6c9545-cb89-477c-e6de-e3cf802d1f4c"
      },
      "execution_count": 8,
      "outputs": [
        {
          "output_type": "stream",
          "name": "stdout",
          "text": [
            "Complex array: [1.+2.j 3.+4.j 5.+6.j]\n"
          ]
        }
      ]
    },
    {
      "cell_type": "code",
      "source": [
        "# 4. Convert an existing NumPy array 'arr' of integers to float32 data type.\n",
        "arr_float32 = arr.astype(np.float32)\n",
        "print(\"Array converted to float32:\", arr_float32)\n",
        "\n"
      ],
      "metadata": {
        "colab": {
          "base_uri": "https://localhost:8080/"
        },
        "id": "7x4yfOlSoIqj",
        "outputId": "08be63b9-7b00-428c-84e0-442933526f54"
      },
      "execution_count": 6,
      "outputs": [
        {
          "output_type": "stream",
          "name": "stdout",
          "text": [
            "Array converted to float32: [0. 1. 2. 3. 4. 5.]\n"
          ]
        }
      ]
    },
    {
      "cell_type": "code",
      "source": [
        "# 5. Convert a NumPy array 'arr' of float64 to float32 to reduce decimal precision.\n",
        "arr_float64 = np.array([1.1, 2.2, 3.3], dtype=np.float64)\n",
        "arr_reduced_precision = arr_float64.astype(np.float32)\n",
        "print(\"Array with reduced precision:\", arr_reduced_precision)\n",
        "\n"
      ],
      "metadata": {
        "colab": {
          "base_uri": "https://localhost:8080/"
        },
        "id": "RpbFbnJBoOB6",
        "outputId": "edc8a5ed-f7ca-4ced-8e3b-1d7a99fcc444"
      },
      "execution_count": 7,
      "outputs": [
        {
          "output_type": "stream",
          "name": "stdout",
          "text": [
            "Array with reduced precision: [1.1 2.2 3.3]\n"
          ]
        }
      ]
    },
    {
      "cell_type": "code",
      "source": [
        "# 6. Function to return shape, size, and data type of an array.\n",
        "def array_attributes(array):\n",
        "    return array.shape, array.size, array.dtype\n",
        "\n",
        "print(\"Array attributes:\", array_attributes(arr))\n",
        "\n"
      ],
      "metadata": {
        "colab": {
          "base_uri": "https://localhost:8080/"
        },
        "id": "SUOFU7L6oS60",
        "outputId": "876c1204-5c38-4530-c817-066448149e19"
      },
      "execution_count": 8,
      "outputs": [
        {
          "output_type": "stream",
          "name": "stdout",
          "text": [
            "Array attributes: ((6,), 6, dtype('int64'))\n"
          ]
        }
      ]
    },
    {
      "cell_type": "code",
      "source": [
        "# 7. Function to return the dimensionality of an array.\n",
        "def array_dimension(array):\n",
        "    return array.ndim\n",
        "\n",
        "print(\"Array dimension:\", array_dimension(arr))\n",
        "\n"
      ],
      "metadata": {
        "colab": {
          "base_uri": "https://localhost:8080/"
        },
        "id": "xUB5XuOpoV8H",
        "outputId": "e28a3fb9-78d6-4f9d-cbd3-f25c77ac958d"
      },
      "execution_count": 9,
      "outputs": [
        {
          "output_type": "stream",
          "name": "stdout",
          "text": [
            "Array dimension: 1\n"
          ]
        }
      ]
    },
    {
      "cell_type": "code",
      "source": [
        "# 8. Function to return the item size and total size in bytes of an array.\n",
        "def item_size_info(array):\n",
        "    return array.itemsize, array.nbytes\n",
        "\n",
        "print(\"Item size and total size in bytes:\", item_size_info(arr))\n",
        "\n"
      ],
      "metadata": {
        "colab": {
          "base_uri": "https://localhost:8080/"
        },
        "id": "gGxocf5eoY2-",
        "outputId": "41bd41e3-5889-45b5-f6e4-a0e871ea8ff7"
      },
      "execution_count": 10,
      "outputs": [
        {
          "output_type": "stream",
          "name": "stdout",
          "text": [
            "Item size and total size in bytes: (8, 48)\n"
          ]
        }
      ]
    },
    {
      "cell_type": "code",
      "source": [
        "# 9. Create a function array_strides that takes a NumPy array as input and returns the strides of the array.\n",
        "def array_strides(array):\n",
        "    return array.strides\n",
        "print (array_strides(arr))\n"
      ],
      "metadata": {
        "colab": {
          "base_uri": "https://localhost:8080/"
        },
        "id": "J0qVUuQDozUF",
        "outputId": "b677ea45-fb63-429b-898e-1debb325c505"
      },
      "execution_count": 14,
      "outputs": [
        {
          "output_type": "stream",
          "name": "stdout",
          "text": [
            "(8,)\n"
          ]
        }
      ]
    },
    {
      "cell_type": "code",
      "source": [
        "# 10. Design a function shape_stride_relationship that takes a NumPy array as input and returns the shape and strides of the array.\n",
        "def shape_stride_relationship(array):\n",
        "    return array.shape, array.strides\n",
        "print(shape_stride_relationship(arr))\n"
      ],
      "metadata": {
        "colab": {
          "base_uri": "https://localhost:8080/"
        },
        "id": "F-VxAqXaZaW6",
        "outputId": "61bedd4d-847d-4a2c-eea3-4584a3f972c8"
      },
      "execution_count": 19,
      "outputs": [
        {
          "output_type": "stream",
          "name": "stdout",
          "text": [
            "((3,), (8,))\n"
          ]
        }
      ]
    },
    {
      "cell_type": "code",
      "source": [
        "# 11. Create a function `create_zeros_array` that takes an integer `n` as input and returns a NumPy array of zeros with `n` elements.\n",
        "def create_zeros_array(n):\n",
        "    return np.zeros(n)\n",
        "\n",
        "print(create_zeros_array(5))"
      ],
      "metadata": {
        "colab": {
          "base_uri": "https://localhost:8080/"
        },
        "id": "qOw7xBxqaaW7",
        "outputId": "f9a8b221-7d8d-4cfe-c603-da60dfa8d3e0"
      },
      "execution_count": 20,
      "outputs": [
        {
          "output_type": "stream",
          "name": "stdout",
          "text": [
            "[0. 0. 0. 0. 0.]\n"
          ]
        }
      ]
    },
    {
      "cell_type": "code",
      "source": [
        "# 12. Write a function `create_ones_matrix` that takes integers `rows` and `cols` as inputs and generates a 2D NumPy array filled with ones of size `rows x cols`.\n",
        "def create_ones_matrix(rows, cols):\n",
        "    return np.ones((rows, cols))\n",
        "\n",
        "print(create_ones_matrix(3, 4))"
      ],
      "metadata": {
        "colab": {
          "base_uri": "https://localhost:8080/"
        },
        "id": "yM0KTRBQanLw",
        "outputId": "fad4245c-d242-47c1-f395-edcecefa2697"
      },
      "execution_count": 21,
      "outputs": [
        {
          "output_type": "stream",
          "name": "stdout",
          "text": [
            "[[1. 1. 1. 1.]\n",
            " [1. 1. 1. 1.]\n",
            " [1. 1. 1. 1.]]\n"
          ]
        }
      ]
    },
    {
      "cell_type": "code",
      "source": [
        "# 13. Write a function `generate_range_array` that takes three integers start, stop, and step as arguments and creates a NumPy array with a range.\n",
        "def generate_range_array(start, stop, step):\n",
        "    return np.arange(start, stop, step)\n",
        "\n",
        "print (generate_range_array(1, 10, 2))\n"
      ],
      "metadata": {
        "colab": {
          "base_uri": "https://localhost:8080/"
        },
        "id": "KFk2K3MqayXG",
        "outputId": "bf3d805b-527a-4852-9ebb-5ae2eac0f2fb"
      },
      "execution_count": 27,
      "outputs": [
        {
          "output_type": "stream",
          "name": "stdout",
          "text": [
            "[1 3 5 7 9]\n"
          ]
        }
      ]
    },
    {
      "cell_type": "code",
      "source": [
        "# 14. Design a function `generate_linear_space` that takes two floats `start`, `stop`, and an integer `num`.\n",
        "def generate_linear_space(start, stop, num):\n",
        "    return np.linspace(start, stop, num)\n",
        "\n",
        "print(generate_linear_space(0.0, 1.0, 5))"
      ],
      "metadata": {
        "colab": {
          "base_uri": "https://localhost:8080/"
        },
        "id": "nlWcPovAbO2a",
        "outputId": "144043d8-7eea-47f7-8ed9-4bc11a850530"
      },
      "execution_count": 28,
      "outputs": [
        {
          "output_type": "stream",
          "name": "stdout",
          "text": [
            "[0.   0.25 0.5  0.75 1.  ]\n"
          ]
        }
      ]
    },
    {
      "cell_type": "code",
      "source": [
        "# 15. Create a function `create_identity_matrix` that takes an integer `n` as input and generates a square identity matrix.\n",
        "def create_identity_matrix(n):\n",
        "    return np.eye(n)\n",
        "\n",
        "print(create_identity_matrix(3))"
      ],
      "metadata": {
        "colab": {
          "base_uri": "https://localhost:8080/"
        },
        "id": "jMdHntWpcDSb",
        "outputId": "45915b2e-b2c5-452a-db4f-b2df368d047a"
      },
      "execution_count": 29,
      "outputs": [
        {
          "output_type": "stream",
          "name": "stdout",
          "text": [
            "[[1. 0. 0.]\n",
            " [0. 1. 0.]\n",
            " [0. 0. 1.]]\n"
          ]
        }
      ]
    },
    {
      "cell_type": "code",
      "source": [
        "# 16. Write a function that takes a Python list and converts it into a NumPy array.\n",
        "def list_to_numpy_array(py_list):\n",
        "    return np.array(py_list)\n",
        "\n",
        "print(list_to_numpy_array([1, 2, 3, 4]))"
      ],
      "metadata": {
        "colab": {
          "base_uri": "https://localhost:8080/"
        },
        "id": "qjg09FvDcZnA",
        "outputId": "95192b33-4813-4357-b85e-756c59e7cde6"
      },
      "execution_count": 30,
      "outputs": [
        {
          "output_type": "stream",
          "name": "stdout",
          "text": [
            "[1 2 3 4]\n"
          ]
        }
      ]
    },
    {
      "cell_type": "code",
      "source": [
        "# 17. Create a NumPy array and demonstrate the use of `numpy.view` to create a new array object with the same data.\n",
        "arr = np.array([1.5, 2.6, 3.7])\n",
        "arr_view = arr.view()\n",
        "print(arr_view)"
      ],
      "metadata": {
        "colab": {
          "base_uri": "https://localhost:8080/"
        },
        "id": "_ZSGWeuUcpHo",
        "outputId": "1d3f2b82-79df-495f-c283-f6aa5dba19da"
      },
      "execution_count": 33,
      "outputs": [
        {
          "output_type": "stream",
          "name": "stdout",
          "text": [
            "[1.5 2.6 3.7]\n"
          ]
        }
      ]
    },
    {
      "cell_type": "code",
      "source": [
        "# 18. Function to concatenate two NumPy arrays along a specified axis.\n",
        "def concatenate_arrays(arr1, arr2, axis=0):\n",
        "    return np.concatenate((arr1, arr2), axis=axis)\n",
        "\n",
        "print(concatenate_arrays(np.array([1, 2, 3]), np.array([2, 3, 5])))"
      ],
      "metadata": {
        "colab": {
          "base_uri": "https://localhost:8080/"
        },
        "id": "ySOLwyUpdRm3",
        "outputId": "7efc0399-c5ab-4ef1-9c68-80e55647347a"
      },
      "execution_count": 36,
      "outputs": [
        {
          "output_type": "stream",
          "name": "stdout",
          "text": [
            "[1 2 3 2 3 5]\n"
          ]
        }
      ]
    },
    {
      "cell_type": "code",
      "source": [
        "# 19. Concatenate two NumPy arrays with different shapes horizontally.\n",
        "arr1 = np.array([[1, 2], [3, 4]])\n",
        "arr2 = np.array([[5, 6]])\n",
        "concatenated_horizontal = np.concatenate((arr1, arr2), axis=0)\n",
        "print(concatenated_horizontal)"
      ],
      "metadata": {
        "colab": {
          "base_uri": "https://localhost:8080/"
        },
        "id": "zvKFOH_qf3ni",
        "outputId": "5ce72acc-8771-4ec1-a78e-4a6a7e2911ce"
      },
      "execution_count": 37,
      "outputs": [
        {
          "output_type": "stream",
          "name": "stdout",
          "text": [
            "[[1 2]\n",
            " [3 4]\n",
            " [5 6]]\n"
          ]
        }
      ]
    },
    {
      "cell_type": "code",
      "source": [
        "# 20. Function to vertically stack multiple NumPy arrays given as a list.\n",
        "def vertical_stack(arr_list):\n",
        "    return np.vstack(arr_list)\n",
        "\n",
        "print(vertical_stack([np.array([1, 2, 4]), np.array([5, 6, 8])]))"
      ],
      "metadata": {
        "colab": {
          "base_uri": "https://localhost:8080/"
        },
        "id": "AA2lnsNcgFF1",
        "outputId": "b7b32435-1d9a-4a72-be0d-10d3cdb2a82c"
      },
      "execution_count": 40,
      "outputs": [
        {
          "output_type": "stream",
          "name": "stdout",
          "text": [
            "[[1 2 4]\n",
            " [5 6 8]]\n"
          ]
        }
      ]
    },
    {
      "cell_type": "code",
      "source": [
        "# 21. Function to create an array of integers within a range with a step size.\n",
        "def range_with_step(start, stop, step):\n",
        "    return np.arange(start, stop + + step, step)\n",
        "\n",
        "print(\"Range with step:\", range_with_step(1, 10, 2))\n"
      ],
      "metadata": {
        "colab": {
          "base_uri": "https://localhost:8080/"
        },
        "id": "9j9cbXgRjOVe",
        "outputId": "d89af12b-7969-49cb-d585-8e7764b9d427"
      },
      "execution_count": 42,
      "outputs": [
        {
          "output_type": "stream",
          "name": "stdout",
          "text": [
            "Range with step: [ 1  3  5  7  9 11]\n"
          ]
        }
      ]
    },
    {
      "cell_type": "code",
      "source": [
        "# 22. Function to generate an array of 10 equally spaced values between 0 and 1.\n",
        "def generate_equally_spaced():\n",
        "    return np.linspace(0, 1, 10)\n",
        "\n",
        "print(\"Equally spaced values:\", generate_equally_spaced())"
      ],
      "metadata": {
        "colab": {
          "base_uri": "https://localhost:8080/"
        },
        "id": "tGNoe6iqkSQW",
        "outputId": "e6e1603d-ecd6-4da3-fd8f-664fce00a379"
      },
      "execution_count": 43,
      "outputs": [
        {
          "output_type": "stream",
          "name": "stdout",
          "text": [
            "Equally spaced values: [0.         0.11111111 0.22222222 0.33333333 0.44444444 0.55555556\n",
            " 0.66666667 0.77777778 0.88888889 1.        ]\n"
          ]
        }
      ]
    },
    {
      "cell_type": "code",
      "source": [
        "# 23. Function to create an array of 5 logarithmically spaced values between 1 and 1000.\n",
        "def generate_log_space():\n",
        "    return np.logspace(0, 3, 5)\n",
        "\n",
        "print(\"Logarithmically spaced values:\", generate_log_space())"
      ],
      "metadata": {
        "colab": {
          "base_uri": "https://localhost:8080/"
        },
        "id": "3Da05ba5klm2",
        "outputId": "437f651c-fd15-402f-c5cc-ec9524efdf91"
      },
      "execution_count": 44,
      "outputs": [
        {
          "output_type": "stream",
          "name": "stdout",
          "text": [
            "Logarithmically spaced values: [   1.            5.62341325   31.6227766   177.827941   1000.        ]\n"
          ]
        }
      ]
    },
    {
      "cell_type": "code",
      "source": [
        "# 24. Create a Pandas DataFrame with random integers between 1 and 100.\n",
        "random_data = np.random.randint(1, 101, size=(5, 3))\n",
        "df = pd.DataFrame(random_data, columns=['A', 'B', 'C'])\n",
        "\n",
        "print(df)\n"
      ],
      "metadata": {
        "colab": {
          "base_uri": "https://localhost:8080/"
        },
        "id": "Veqrqe2yk0dX",
        "outputId": "1c702131-9414-400f-f0a7-25759da43a0f"
      },
      "execution_count": 46,
      "outputs": [
        {
          "output_type": "stream",
          "name": "stdout",
          "text": [
            "    A   B   C\n",
            "0  55   3  61\n",
            "1  34  57  42\n",
            "2  82  71  48\n",
            "3  64  56  25\n",
            "4  97   4  46\n"
          ]
        }
      ]
    },
    {
      "cell_type": "code",
      "source": [
        "# 25. Function to replace negative values in a specific column with zeros.\n",
        "def replace_negatives_with_zeros(df, column_name):\n",
        "    df[column_name] = np.where(df[column_name] < 0, 0, df[column_name])\n",
        "    return df\n",
        "\n",
        "df['A'] = [-10, 20, 30, -40, 50]  # Modify column 'A' for testing\n",
        "print(\"DataFrame before replacing negatives:\\n\", df)\n"
      ],
      "metadata": {
        "colab": {
          "base_uri": "https://localhost:8080/"
        },
        "id": "bFjMRtRwlRfh",
        "outputId": "1ccd00aa-0d49-4365-a12f-2cbf8a387222"
      },
      "execution_count": 47,
      "outputs": [
        {
          "output_type": "stream",
          "name": "stdout",
          "text": [
            "DataFrame before replacing negatives:\n",
            "     A   B   C\n",
            "0 -10   3  61\n",
            "1  20  57  42\n",
            "2  30  71  48\n",
            "3 -40  56  25\n",
            "4  50   4  46\n"
          ]
        }
      ]
    },
    {
      "cell_type": "code",
      "source": [
        "# 26. Access the 3rd element from a given NumPy array.\n",
        "arr = np.array([10, 20, 30, 40, 50])\n",
        "third_element = arr[2]\n",
        "print(third_element)\n",
        "\n"
      ],
      "metadata": {
        "colab": {
          "base_uri": "https://localhost:8080/"
        },
        "id": "UW5cTgiIlhYK",
        "outputId": "d77fbfe9-5ffd-450f-d9cd-dbc29a0f785f"
      },
      "execution_count": 48,
      "outputs": [
        {
          "output_type": "stream",
          "name": "stdout",
          "text": [
            "30\n"
          ]
        }
      ]
    },
    {
      "cell_type": "code",
      "source": [
        "# 27. Retrieve the element at index (1, 2) from a 2D NumPy array.\n",
        "arr_2d = np.array([[1, 2, 3],\n",
        "                   [4, 5, 6],\n",
        "                   [7, 8, 9]])\n",
        "element_at_1_2 = arr_2d[1, 2]\n",
        "print(element_at_1_2)"
      ],
      "metadata": {
        "colab": {
          "base_uri": "https://localhost:8080/"
        },
        "id": "rwMcRRXDl_pI",
        "outputId": "50fc2b41-5c3c-47a7-b665-ef918d4be80d"
      },
      "execution_count": 49,
      "outputs": [
        {
          "output_type": "stream",
          "name": "stdout",
          "text": [
            "6\n"
          ]
        }
      ]
    },
    {
      "cell_type": "code",
      "source": [
        "# 28. Extract elements greater than 5 using boolean indexing.\n",
        "arr = np.array([3, 8, 2, 10, 5, 7])\n",
        "greater_than_5 = arr[arr > 5]\n",
        "print(greater_than_5)"
      ],
      "metadata": {
        "colab": {
          "base_uri": "https://localhost:8080/"
        },
        "id": "-8Iu7aGLmGe7",
        "outputId": "6d2ee3a0-cdad-4c94-8a79-d2b3562160fb"
      },
      "execution_count": 50,
      "outputs": [
        {
          "output_type": "stream",
          "name": "stdout",
          "text": [
            "[ 8 10  7]\n"
          ]
        }
      ]
    },
    {
      "cell_type": "code",
      "source": [
        "# 29. Perform slicing to extract elements from index 2 to 5 (inclusive).\n",
        "arr = np.array([1, 2, 3, 4, 5, 6, 7, 8, 9])\n",
        "sliced_array = arr[2:6]\n",
        "print(sliced_array)"
      ],
      "metadata": {
        "colab": {
          "base_uri": "https://localhost:8080/"
        },
        "id": "2p4YHJBOmWbu",
        "outputId": "f0b28d53-85b6-446f-faba-69c28753bb7f"
      },
      "execution_count": 51,
      "outputs": [
        {
          "output_type": "stream",
          "name": "stdout",
          "text": [
            "[3 4 5 6]\n"
          ]
        }
      ]
    },
    {
      "cell_type": "code",
      "source": [
        "# 30. Slice a 2D NumPy array to extract a sub-array `[[2, 3], [5, 6]]`.\n",
        "arr_2d = np.array([[1, 2, 3],\n",
        "                   [4, 5, 6],\n",
        "                   [7, 8, 9]])\n",
        "sub_array = arr_2d[0:2, 1:3]\n",
        "print(sub_array)"
      ],
      "metadata": {
        "colab": {
          "base_uri": "https://localhost:8080/"
        },
        "id": "G1go43uNmmvu",
        "outputId": "0a85b33f-4214-4e71-bfd0-4f7cf7f1c71c"
      },
      "execution_count": 52,
      "outputs": [
        {
          "output_type": "stream",
          "name": "stdout",
          "text": [
            "[[2 3]\n",
            " [5 6]]\n"
          ]
        }
      ]
    },
    {
      "cell_type": "code",
      "source": [
        "# 31. Extract elements in specific order based on indices in another array.\n",
        "def extract_elements(arr, indices):\n",
        "    return arr[tuple(indices.T)]\n",
        "\n",
        "arr = np.array([[1, 2, 3],\n",
        "                [4, 5, 6],\n",
        "                [7, 8, 9]])\n",
        "\n",
        "indices = np.array([[0, 1],  # Element at (0, 1) => 2\n",
        "                    [2, 2],  # Element at (2, 2) => 9\n",
        "                    [1, 0]]) # Element at (1, 0) => 4\n",
        "\n",
        "print(\"Extracted elements:\", extract_elements(arr, indices))\n"
      ],
      "metadata": {
        "colab": {
          "base_uri": "https://localhost:8080/"
        },
        "id": "nGLTx3tkm09q",
        "outputId": "389a2acc-9555-40f8-dd29-16e0c5d88bde"
      },
      "execution_count": 58,
      "outputs": [
        {
          "output_type": "stream",
          "name": "stdout",
          "text": [
            "Extracted elements: [2 9 4]\n"
          ]
        }
      ]
    },
    {
      "cell_type": "code",
      "source": [
        "# 32. Filter elements greater than a threshold using boolean indexing.\n",
        "def filter_greater_than(arr, threshold):\n",
        "    return arr[arr > threshold]\n",
        "\n",
        "arr = np.array([1, 2, 3, 4, 5])\n",
        "print(filter_greater_than(arr, 3))"
      ],
      "metadata": {
        "colab": {
          "base_uri": "https://localhost:8080/"
        },
        "id": "CrynprROp0Lz",
        "outputId": "2d6e92f8-f34e-4b80-aeeb-73c9338e1955"
      },
      "execution_count": 59,
      "outputs": [
        {
          "output_type": "stream",
          "name": "stdout",
          "text": [
            "[4 5]\n"
          ]
        }
      ]
    },
    {
      "cell_type": "code",
      "source": [
        "# 33. Extract specific elements from a 3D array using indices for each dimension.\n",
        "def extract_from_3d(arr, x_indices, y_indices, z_indices):\n",
        "    return arr[x_indices, y_indices, z_indices]\n",
        "\n",
        "arr_3d = np.arange(27).reshape(3, 3, 3)\n",
        "x_indices = [0, 1, 2]\n",
        "y_indices = [1, 1, 1]\n",
        "z_indices = [2, 0, 1]\n",
        "print(extract_from_3d(arr_3d, x_indices, y_indices, z_indices))"
      ],
      "metadata": {
        "colab": {
          "base_uri": "https://localhost:8080/"
        },
        "id": "2Xy49bbEqRw-",
        "outputId": "bda57e83-0645-4561-e414-defee5256c9c"
      },
      "execution_count": 60,
      "outputs": [
        {
          "output_type": "stream",
          "name": "stdout",
          "text": [
            "[ 5 12 22]\n"
          ]
        }
      ]
    },
    {
      "cell_type": "code",
      "source": [
        "# 34. Return elements satisfying two conditions using boolean indexing.\n",
        "def elements_satisfying_conditions(arr, cond1, cond2):\n",
        "    return arr[(cond1) & (cond2)]\n",
        "\n",
        "arr = np.array([1, 2, 3, 4, 5, 6])\n",
        "print(elements_satisfying_conditions(arr, arr > 2, arr < 5))"
      ],
      "metadata": {
        "colab": {
          "base_uri": "https://localhost:8080/"
        },
        "id": "Mbq4rNWVrCMu",
        "outputId": "9641a83d-4c5a-4a9c-a258-c6e720ccf30d"
      },
      "execution_count": 61,
      "outputs": [
        {
          "output_type": "stream",
          "name": "stdout",
          "text": [
            "[3 4]\n"
          ]
        }
      ]
    },
    {
      "cell_type": "code",
      "source": [
        "# 35. Extract elements using row and column indices.\n",
        "def extract_using_indices(arr, row_indices, col_indices):\n",
        "    return arr[row_indices, col_indices]\n",
        "\n",
        "arr = np.array([[1, 2, 3], [4, 5, 6], [7, 8, 9]])\n",
        "rows = [0, 1, 2]\n",
        "cols = [2, 1, 0]\n",
        "print(extract_using_indices(arr, rows, cols))\n"
      ],
      "metadata": {
        "colab": {
          "base_uri": "https://localhost:8080/"
        },
        "id": "DNrbIaNbrMia",
        "outputId": "2054300e-8fa7-4ca8-bb97-57e3d7f5a4e2"
      },
      "execution_count": 62,
      "outputs": [
        {
          "output_type": "stream",
          "name": "stdout",
          "text": [
            "[3 5 7]\n"
          ]
        }
      ]
    },
    {
      "cell_type": "code",
      "source": [
        "# 36. Add a scalar value using broadcasting.\n",
        "arr = np.array([[1, 2, 3], [4, 5, 6]])\n",
        "print(arr + 5)"
      ],
      "metadata": {
        "colab": {
          "base_uri": "https://localhost:8080/"
        },
        "id": "HK73fqEFseoz",
        "outputId": "4cabd2c6-30a7-4b30-b320-e812b5576b96"
      },
      "execution_count": 63,
      "outputs": [
        {
          "output_type": "stream",
          "name": "stdout",
          "text": [
            "[[ 6  7  8]\n",
            " [ 9 10 11]]\n"
          ]
        }
      ]
    },
    {
      "cell_type": "code",
      "source": [
        "# 37. Multiply rows of arr2 by corresponding elements in arr1 using broadcasting.\n",
        "arr1 = np.array([[1, 2, 3]])\n",
        "arr2 = np.array([[1, 2, 3, 4], [5, 6, 7, 8], [9, 10, 11, 12]])\n",
        "print(arr2 * arr1.T)\n"
      ],
      "metadata": {
        "colab": {
          "base_uri": "https://localhost:8080/"
        },
        "id": "PEIOYMYeskz5",
        "outputId": "eed7833e-3c5b-4e6d-ae2b-0f304cc50ba2"
      },
      "execution_count": 64,
      "outputs": [
        {
          "output_type": "stream",
          "name": "stdout",
          "text": [
            "[[ 1  2  3  4]\n",
            " [10 12 14 16]\n",
            " [27 30 33 36]]\n"
          ]
        }
      ]
    },
    {
      "cell_type": "code",
      "source": [
        "# 38. Add arr1 to each row of arr2 using broadcasting.\n",
        "arr1 = np.array([1, 2, 3, 4])\n",
        "arr2 = np.array([[1, 2, 3], [4, 5, 6], [7, 8, 9], [10, 11, 12]])\n",
        "print(arr2 + arr1[:, np.newaxis])"
      ],
      "metadata": {
        "colab": {
          "base_uri": "https://localhost:8080/"
        },
        "id": "maJlwesSssEe",
        "outputId": "701179bf-a37a-434f-a8c5-1541f37e487b"
      },
      "execution_count": 65,
      "outputs": [
        {
          "output_type": "stream",
          "name": "stdout",
          "text": [
            "[[ 2  3  4]\n",
            " [ 6  7  8]\n",
            " [10 11 12]\n",
            " [14 15 16]]\n"
          ]
        }
      ]
    },
    {
      "cell_type": "code",
      "source": [
        "# 39. Add arrays using broadcasting.\n",
        "arr1 = np.array([[1], [2], [3]])\n",
        "arr2 = np.array([[4, 5, 6]])\n",
        "print(arr1 + arr2)"
      ],
      "metadata": {
        "colab": {
          "base_uri": "https://localhost:8080/"
        },
        "id": "KnSovjGWsv22",
        "outputId": "f78f5c8e-6aec-4ca7-f916-9a6b1a70608b"
      },
      "execution_count": 66,
      "outputs": [
        {
          "output_type": "stream",
          "name": "stdout",
          "text": [
            "[[5 6 7]\n",
            " [6 7 8]\n",
            " [7 8 9]]\n"
          ]
        }
      ]
    },
    {
      "cell_type": "code",
      "source": [
        "# 40. Handle shape incompatibility for multiplication.\n",
        "arr1 = np.array([[1, 2, 3], [4, 5, 6]])\n",
        "arr2 = np.array([[7, 8], [9, 10]])\n",
        "try:\n",
        "    print(arr1 * arr2)\n",
        "except ValueError as e:\n",
        "    print(f\"Error: {e}\")\n"
      ],
      "metadata": {
        "colab": {
          "base_uri": "https://localhost:8080/"
        },
        "id": "p4BD5FHCs2P7",
        "outputId": "c7d48d37-d1e0-4122-ce0c-d532451d1dbc"
      },
      "execution_count": 67,
      "outputs": [
        {
          "output_type": "stream",
          "name": "stdout",
          "text": [
            "Error: operands could not be broadcast together with shapes (2,3) (2,2) \n"
          ]
        }
      ]
    },
    {
      "cell_type": "code",
      "source": [
        "# 41. Calculate column-wise mean.\n",
        "arr = np.array([[1, 2, 3], [4, 5, 6]])\n",
        "print(arr.mean(axis=0))"
      ],
      "metadata": {
        "colab": {
          "base_uri": "https://localhost:8080/"
        },
        "id": "Mu_K6djrti-c",
        "outputId": "f87af0e2-6dad-42a3-e9de-a77878972dcf"
      },
      "execution_count": 68,
      "outputs": [
        {
          "output_type": "stream",
          "name": "stdout",
          "text": [
            "[2.5 3.5 4.5]\n"
          ]
        }
      ]
    },
    {
      "cell_type": "code",
      "source": [
        "# 42. Find maximum value in each row.\n",
        "print(arr.max(axis=1))"
      ],
      "metadata": {
        "colab": {
          "base_uri": "https://localhost:8080/"
        },
        "id": "0ZFvGrJWtlgV",
        "outputId": "faed6b3c-35c9-4443-a818-bdc740e8ed80"
      },
      "execution_count": 69,
      "outputs": [
        {
          "output_type": "stream",
          "name": "stdout",
          "text": [
            "[3 6]\n"
          ]
        }
      ]
    },
    {
      "cell_type": "code",
      "source": [
        "# 43. Indices of maximum value in each column.\n",
        "print(arr.argmax(axis=0))"
      ],
      "metadata": {
        "colab": {
          "base_uri": "https://localhost:8080/"
        },
        "id": "WjB0YZHhttMA",
        "outputId": "e6a129f3-72e7-49ba-9b7d-1f1a98e14310"
      },
      "execution_count": 70,
      "outputs": [
        {
          "output_type": "stream",
          "name": "stdout",
          "text": [
            "[1 1 1]\n"
          ]
        }
      ]
    },
    {
      "cell_type": "code",
      "source": [
        "# 44. Calculate moving sum along rows.\n",
        "def moving_sum(arr, window_size=2):\n",
        "    return np.array([np.convolve(row, np.ones(window_size, dtype=int), mode='valid') for row in arr])\n",
        "\n",
        "print(moving_sum(arr))"
      ],
      "metadata": {
        "colab": {
          "base_uri": "https://localhost:8080/"
        },
        "id": "XWHkcNDBtwqB",
        "outputId": "f7af05d6-7dde-4a9d-fe9e-4ac80f86928c"
      },
      "execution_count": 72,
      "outputs": [
        {
          "output_type": "stream",
          "name": "stdout",
          "text": [
            "[[ 3  5]\n",
            " [ 9 11]]\n",
            "[False False False]\n"
          ]
        }
      ]
    },
    {
      "cell_type": "code",
      "source": [
        "# 45. Check if all elements in each column are even.\n",
        "print((arr % 2 == 0).all(axis=0))"
      ],
      "metadata": {
        "colab": {
          "base_uri": "https://localhost:8080/"
        },
        "id": "FTU2XE69uF1r",
        "outputId": "f388e705-62de-48f5-b7fb-5e55d1ec6b11"
      },
      "execution_count": 73,
      "outputs": [
        {
          "output_type": "stream",
          "name": "stdout",
          "text": [
            "[False False False]\n"
          ]
        }
      ]
    },
    {
      "cell_type": "code",
      "source": [
        "# 46. Reshape an array into a matrix of dimensions m x n.\n",
        "def reshape_array(arr, m, n):\n",
        "    return arr.reshape(m, n)\n",
        "\n",
        "# Example:\n",
        "original_array = np.array([1, 2, 3, 4, 5, 6])\n",
        "print(reshape_array(original_array, 2, 3))\n"
      ],
      "metadata": {
        "colab": {
          "base_uri": "https://localhost:8080/"
        },
        "id": "KR_LDEVquJYH",
        "outputId": "2302f310-aab3-4ac5-f6dc-8ac5cae62192"
      },
      "execution_count": 74,
      "outputs": [
        {
          "output_type": "stream",
          "name": "stdout",
          "text": [
            "[[1 2 3]\n",
            " [4 5 6]]\n"
          ]
        }
      ]
    },
    {
      "cell_type": "code",
      "source": [
        "# 47. Flatten a matrix into an array.\n",
        "def flatten_matrix(matrix):\n",
        "    return matrix.flatten()\n",
        "\n",
        "# Example:\n",
        "input_matrix = np.array([[1, 2, 3], [4, 5, 6]])\n",
        "print(flatten_matrix(input_matrix))"
      ],
      "metadata": {
        "colab": {
          "base_uri": "https://localhost:8080/"
        },
        "id": "vXet22GduuAD",
        "outputId": "24a5c53a-5829-4ca8-92a1-593773c3ee61"
      },
      "execution_count": 75,
      "outputs": [
        {
          "output_type": "stream",
          "name": "stdout",
          "text": [
            "[1 2 3 4 5 6]\n"
          ]
        }
      ]
    },
    {
      "cell_type": "code",
      "source": [
        "# 48. Concatenate two arrays along a specified axis.\n",
        "def concatenate_arrays(arr1, arr2, axis):\n",
        "    return np.concatenate((arr1, arr2), axis=axis)\n",
        "\n",
        "# Example:\n",
        "array1 = np.array([[1, 2], [3, 4]])\n",
        "array2 = np.array([[5, 6], [7, 8]])\n",
        "print(concatenate_arrays(array1, array2, axis=0))\n"
      ],
      "metadata": {
        "colab": {
          "base_uri": "https://localhost:8080/"
        },
        "id": "Y6w1jdgeu4eI",
        "outputId": "67dc221f-6c82-402c-e4b0-6800592d23e9"
      },
      "execution_count": 76,
      "outputs": [
        {
          "output_type": "stream",
          "name": "stdout",
          "text": [
            "[[1 2]\n",
            " [3 4]\n",
            " [5 6]\n",
            " [7 8]]\n"
          ]
        }
      ]
    },
    {
      "cell_type": "code",
      "source": [
        "# 49. Split an array into multiple sub-arrays along a specified axis.\n",
        "def split_array(arr, indices, axis):\n",
        "    return np.split(arr, indices, axis=axis)\n",
        "\n",
        "# Example:\n",
        "original_array = np.array([[1, 2, 3], [4, 5, 6], [7, 8, 9]])\n",
        "print(split_array(original_array, [1], axis=0))"
      ],
      "metadata": {
        "colab": {
          "base_uri": "https://localhost:8080/"
        },
        "id": "bFZEpPIBvD5d",
        "outputId": "e7394496-0eeb-4df7-c32d-3156e9c4f604"
      },
      "execution_count": 77,
      "outputs": [
        {
          "output_type": "stream",
          "name": "stdout",
          "text": [
            "[array([[1, 2, 3]]), array([[4, 5, 6],\n",
            "       [7, 8, 9]])]\n"
          ]
        }
      ]
    },
    {
      "cell_type": "code",
      "source": [
        "# 50. Insert and delete elements at specified indices.\n",
        "def insert_and_delete(arr, insert_indices, insert_values, delete_indices):\n",
        "    arr = np.insert(arr, insert_indices, insert_values)\n",
        "    arr = np.delete(arr, delete_indices)\n",
        "    return arr\n",
        "\n",
        "# Example:\n",
        "original_array = np.array([1, 2, 3, 4, 5])\n",
        "indices_to_insert = [2, 4]\n",
        "values_to_insert = [10, 11]\n",
        "indices_to_delete = [1, 3]\n",
        "print(insert_and_delete(original_array, indices_to_insert, values_to_insert, indices_to_delete))"
      ],
      "metadata": {
        "colab": {
          "base_uri": "https://localhost:8080/"
        },
        "id": "mgtjSvxcvMJ2",
        "outputId": "ded0fcf1-cbb7-43e5-f938-6da8b769266c"
      },
      "execution_count": 78,
      "outputs": [
        {
          "output_type": "stream",
          "name": "stdout",
          "text": [
            "[ 1 10  4 11  5]\n"
          ]
        }
      ]
    },
    {
      "cell_type": "code",
      "source": [
        "# 51. Element-wise addition between random integers and a fixed array.\n",
        "arr1 = np.random.randint(1, 10, size=5)\n",
        "arr2 = np.arange(1, 6)\n",
        "print(arr1 + arr2)\n"
      ],
      "metadata": {
        "colab": {
          "base_uri": "https://localhost:8080/"
        },
        "id": "lTY_Hbk8vs1_",
        "outputId": "78a64476-e1ac-42db-d0ef-dcb119ca64c5"
      },
      "execution_count": 79,
      "outputs": [
        {
          "output_type": "stream",
          "name": "stdout",
          "text": [
            "[ 6 10  5 11  7]\n"
          ]
        }
      ]
    },
    {
      "cell_type": "code",
      "source": [
        "# 52. Element-wise subtraction.\n",
        "arr1 = np.arange(10, 0, -1)\n",
        "arr2 = np.arange(1, 11)\n",
        "print(arr1 - arr2)\n"
      ],
      "metadata": {
        "colab": {
          "base_uri": "https://localhost:8080/"
        },
        "id": "uz5IxZcovyc4",
        "outputId": "ed93c516-c985-4e28-988e-594f4d72b486"
      },
      "execution_count": 80,
      "outputs": [
        {
          "output_type": "stream",
          "name": "stdout",
          "text": [
            "[ 9  7  5  3  1 -1 -3 -5 -7 -9]\n"
          ]
        }
      ]
    },
    {
      "cell_type": "code",
      "source": [
        "# 53. Element-wise multiplication.\n",
        "arr1 = np.random.randint(1, 10, size=5)\n",
        "arr2 = np.arange(1, 6)\n",
        "print(arr1 * arr2)"
      ],
      "metadata": {
        "colab": {
          "base_uri": "https://localhost:8080/"
        },
        "id": "mKzvdA1vv14Q",
        "outputId": "369d2487-0802-4643-bf94-354006176dbf"
      },
      "execution_count": 81,
      "outputs": [
        {
          "output_type": "stream",
          "name": "stdout",
          "text": [
            "[ 4 16 21 16 35]\n"
          ]
        }
      ]
    },
    {
      "cell_type": "code",
      "source": [
        "# 54. Element-wise division.\n",
        "arr1 = np.arange(2, 11, 2)\n",
        "arr2 = np.arange(1, 6)\n",
        "print(arr1 / arr2)\n"
      ],
      "metadata": {
        "colab": {
          "base_uri": "https://localhost:8080/"
        },
        "id": "4hOuXpLOv5ny",
        "outputId": "019598ce-c3d2-4dc2-e4a2-114fe382eff2"
      },
      "execution_count": 82,
      "outputs": [
        {
          "output_type": "stream",
          "name": "stdout",
          "text": [
            "[2. 2. 2. 2. 2.]\n"
          ]
        }
      ]
    },
    {
      "cell_type": "code",
      "source": [
        "# 55. Element-wise exponentiation.\n",
        "arr1 = np.arange(1, 6)\n",
        "arr2 = arr1[::-1]\n",
        "print(arr1 ** arr2)\n"
      ],
      "metadata": {
        "colab": {
          "base_uri": "https://localhost:8080/"
        },
        "id": "s-_XoURBwEl-",
        "outputId": "842e03e3-7850-4f17-80b5-3d105660f482"
      },
      "execution_count": 83,
      "outputs": [
        {
          "output_type": "stream",
          "name": "stdout",
          "text": [
            "[ 1 16 27 16  5]\n"
          ]
        }
      ]
    },
    {
      "cell_type": "code",
      "source": [
        "# 56. Count occurrences of a substring in an array of strings.\n",
        "def count_substring(arr, substring):\n",
        "    return np.char.count(arr, substring)\n",
        "\n",
        "# Example:\n",
        "arr = np.array(['hello', 'world', 'hello', 'numpy', 'hello'])\n",
        "print(count_substring(arr, 'hello'))"
      ],
      "metadata": {
        "colab": {
          "base_uri": "https://localhost:8080/"
        },
        "id": "T9ZkP_WdwMcu",
        "outputId": "090117ee-414d-43cf-f95e-3d616349283c"
      },
      "execution_count": 84,
      "outputs": [
        {
          "output_type": "stream",
          "name": "stdout",
          "text": [
            "[1 0 1 0 1]\n"
          ]
        }
      ]
    },
    {
      "cell_type": "code",
      "source": [
        "# 57. Extract uppercase characters from an array of strings.\n",
        "def extract_uppercase(arr):\n",
        "    return [''.join(filter(str.isupper, s)) for s in arr]\n",
        "\n",
        "# Example:\n",
        "arr = np.array(['Hello', 'World', 'OpenAI', 'GPT'])\n",
        "print(extract_uppercase(arr))"
      ],
      "metadata": {
        "colab": {
          "base_uri": "https://localhost:8080/"
        },
        "id": "-p2ZJXsTwQ0j",
        "outputId": "30cb0d8a-deff-4d26-b2f5-f755bb18d67f"
      },
      "execution_count": 85,
      "outputs": [
        {
          "output_type": "stream",
          "name": "stdout",
          "text": [
            "['H', 'W', 'OAI', 'GPT']\n"
          ]
        }
      ]
    },
    {
      "cell_type": "code",
      "source": [
        "# 58. Replace occurrences of a substring in a NumPy array of strings with a new string.\n",
        "def replace_substring(arr, old_substring, new_substring):\n",
        "    return np.char.replace(arr, old_substring, new_substring)\n",
        "\n",
        "# Example:\n",
        "arr = np.array(['apple', 'banana', 'grape', 'pineapple'])\n",
        "print(replace_substring(arr, 'apple', 'orange'))"
      ],
      "metadata": {
        "colab": {
          "base_uri": "https://localhost:8080/"
        },
        "id": "GZ20glfaw2PI",
        "outputId": "43f22253-67f0-4ce5-937e-812ed7dfc1f8"
      },
      "execution_count": 86,
      "outputs": [
        {
          "output_type": "stream",
          "name": "stdout",
          "text": [
            "['orange' 'banana' 'grape' 'pineorange']\n"
          ]
        }
      ]
    },
    {
      "cell_type": "code",
      "source": [
        "# 59. Concatenate strings in a NumPy array element-wise.\n",
        "def concatenate_strings(arr):\n",
        "    return ''.join(arr)\n",
        "\n",
        "# Example:\n",
        "arr = np.array(['Hello', ' ', 'World'])\n",
        "print(concatenate_strings(arr))"
      ],
      "metadata": {
        "colab": {
          "base_uri": "https://localhost:8080/"
        },
        "id": "RmxO-WJLxXKJ",
        "outputId": "3e37ccb8-c060-45a9-d3f3-31d29736e467"
      },
      "execution_count": 87,
      "outputs": [
        {
          "output_type": "stream",
          "name": "stdout",
          "text": [
            "Hello World\n"
          ]
        }
      ]
    },
    {
      "cell_type": "code",
      "source": [
        "# 60. Find the length of the longest string in a NumPy array.\n",
        "def longest_string_length(arr):\n",
        "    return max(np.char.str_len(arr))\n",
        "\n",
        "    # Example:\n",
        "arr = np.array(['apple', 'banana', 'grape', 'pineapple'])\n",
        "print(longest_string_length(arr))"
      ],
      "metadata": {
        "id": "iuKQOB9cxb7k"
      },
      "execution_count": null,
      "outputs": []
    },
    {
      "cell_type": "code",
      "source": [
        "# 61. Create a dataset of 100 random integers between 1 and 1000 and compute statistical measures.\n",
        "dataset = np.random.randint(1, 1001, size=100)\n",
        "mean = np.mean(dataset)\n",
        "median = np.median(dataset)\n",
        "variance = np.var(dataset)\n",
        "std_dev = np.std(dataset)\n",
        "print(f\"Mean: {mean}, Median: {median}, Variance: {variance}, Standard Deviation: {std_dev}\")"
      ],
      "metadata": {
        "colab": {
          "base_uri": "https://localhost:8080/"
        },
        "id": "6xRjACO9xwAw",
        "outputId": "e3deaa00-ec8e-4d25-a642-66fb26e21e72"
      },
      "execution_count": 88,
      "outputs": [
        {
          "output_type": "stream",
          "name": "stdout",
          "text": [
            "Mean: 494.23, Median: 462.0, Variance: 86809.43710000002, Standard Deviation: 294.63441262011474\n"
          ]
        }
      ]
    },
    {
      "cell_type": "code",
      "source": [
        "# 62. Find the 25th and 75th percentiles of an array of 50 random numbers.\n",
        "random_numbers = np.random.randint(1, 101, size=50)\n",
        "percentile_25 = np.percentile(random_numbers, 25)\n",
        "percentile_75 = np.percentile(random_numbers, 75)\n",
        "print(f\"25th Percentile: {percentile_25}, 75th Percentile: {percentile_75}\")"
      ],
      "metadata": {
        "colab": {
          "base_uri": "https://localhost:8080/"
        },
        "id": "fOjJeWMRzufK",
        "outputId": "9a857b68-c887-4f88-c4d4-0f645e9a3398"
      },
      "execution_count": 89,
      "outputs": [
        {
          "output_type": "stream",
          "name": "stdout",
          "text": [
            "25th Percentile: 26.25, 75th Percentile: 66.0\n"
          ]
        }
      ]
    },
    {
      "cell_type": "code",
      "source": [
        "# 63. Compute the correlation coefficient between two arrays.\n",
        "arr1 = np.random.rand(100)\n",
        "arr2 = np.random.rand(100)\n",
        "correlation_coefficient = np.corrcoef(arr1, arr2)[0, 1]\n",
        "print(f\"Correlation Coefficient: {correlation_coefficient}\")"
      ],
      "metadata": {
        "colab": {
          "base_uri": "https://localhost:8080/"
        },
        "id": "S1Rh5P1V4S9L",
        "outputId": "f5b8d91b-c4a2-4547-debf-c2ce668b0f89"
      },
      "execution_count": 90,
      "outputs": [
        {
          "output_type": "stream",
          "name": "stdout",
          "text": [
            "Correlation Coefficient: 0.10845208904978228\n"
          ]
        }
      ]
    },
    {
      "cell_type": "code",
      "source": [
        "# 64. Perform matrix multiplication using NumPy's dot function.\n",
        "matrix1 = np.random.randint(1, 10, size=(3, 3))\n",
        "matrix2 = np.random.randint(1, 10, size=(3, 3))\n",
        "matrix_multiplication = np.dot(matrix1, matrix2)\n",
        "print(f\"Matrix Multiplication:\\n{matrix_multiplication}\")"
      ],
      "metadata": {
        "colab": {
          "base_uri": "https://localhost:8080/"
        },
        "id": "r1c0bG1m4uhG",
        "outputId": "ed57949b-9262-47ea-b519-08bdaaa1ca1a"
      },
      "execution_count": 91,
      "outputs": [
        {
          "output_type": "stream",
          "name": "stdout",
          "text": [
            "Matrix Multiplication:\n",
            "[[ 57 111  54]\n",
            " [ 76 126  55]\n",
            " [ 45  57  21]]\n"
          ]
        }
      ]
    },
    {
      "cell_type": "code",
      "source": [
        "# 65. Calculate the 10th, 50th (median), and 90th percentiles, and first and third quartiles of an array.\n",
        "arr = np.random.randint(10, 1001, size=50)\n",
        "percentile_10 = np.percentile(arr, 10)\n",
        "percentile_50 = np.percentile(arr, 50)\n",
        "percentile_90 = np.percentile(arr, 90)\n",
        "first_quartile = np.percentile(arr, 25)\n",
        "third_quartile = np.percentile(arr, 75)\n",
        "print(f\"10th Percentile: {percentile_10}, 50th Percentile (Median): {percentile_50}, 90th Percentile: {percentile_90}\")\n",
        "print(f\"First Quartile: {first_quartile}, Third Quartile: {third_quartile}\")"
      ],
      "metadata": {
        "colab": {
          "base_uri": "https://localhost:8080/"
        },
        "id": "e645pKas47r1",
        "outputId": "70e90f8f-67c2-47fc-e17b-707c1adbda9f"
      },
      "execution_count": 92,
      "outputs": [
        {
          "output_type": "stream",
          "name": "stdout",
          "text": [
            "10th Percentile: 93.7, 50th Percentile (Median): 483.0, 90th Percentile: 919.2\n",
            "First Quartile: 273.75, Third Quartile: 878.5\n"
          ]
        }
      ]
    },
    {
      "cell_type": "code",
      "source": [
        "# 66. Find the index of a specific element in an array.\n",
        "arr = np.array([10, 20, 30, 40, 50])\n",
        "index_of_30 = np.where(arr == 30)[0][0]  # Using where to find the index of 30\n",
        "print(f\"Index of 30: {index_of_30}\")"
      ],
      "metadata": {
        "colab": {
          "base_uri": "https://localhost:8080/"
        },
        "id": "U4b0EjIn5Nm6",
        "outputId": "b5b1a865-970e-465c-9471-028136342cd2"
      },
      "execution_count": 93,
      "outputs": [
        {
          "output_type": "stream",
          "name": "stdout",
          "text": [
            "Index of 30: 2\n"
          ]
        }
      ]
    },
    {
      "cell_type": "code",
      "source": [
        "# 67. Sort a random array in ascending order.\n",
        "random_array = np.random.randint(1, 101, size=10)\n",
        "sorted_array = np.sort(random_array)\n",
        "print(f\"Sorted Array: {sorted_array}\")\n"
      ],
      "metadata": {
        "colab": {
          "base_uri": "https://localhost:8080/"
        },
        "id": "qPtEmtUi5QoV",
        "outputId": "609b8abf-ec20-43ae-b7f6-3142b511570a"
      },
      "execution_count": 94,
      "outputs": [
        {
          "output_type": "stream",
          "name": "stdout",
          "text": [
            "Sorted Array: [29 57 67 67 69 72 73 78 88 98]\n"
          ]
        }
      ]
    },
    {
      "cell_type": "code",
      "source": [
        "# 68. Filter elements >20 in the given array.\n",
        "arr = np.array([12, 25, 6, 42, 8, 30])\n",
        "filtered_arr = arr[arr > 20]\n",
        "print(f\"Filtered elements > 20: {filtered_arr}\")"
      ],
      "metadata": {
        "colab": {
          "base_uri": "https://localhost:8080/"
        },
        "id": "78NgHmN45exE",
        "outputId": "e6d8f919-9cbc-497b-dcae-d8dda21eadf3"
      },
      "execution_count": 95,
      "outputs": [
        {
          "output_type": "stream",
          "name": "stdout",
          "text": [
            "Filtered elements > 20: [25 42 30]\n"
          ]
        }
      ]
    },
    {
      "cell_type": "code",
      "source": [
        "# 69. Filter elements divisible by 3.\n",
        "arr = np.array([1, 5, 8, 12, 15])\n",
        "filtered_arr = arr[arr % 3 == 0]\n",
        "print(f\"Filtered elements divisible by 3: {filtered_arr}\")\n"
      ],
      "metadata": {
        "colab": {
          "base_uri": "https://localhost:8080/"
        },
        "id": "jcDVHxyF5j12",
        "outputId": "c501acb4-e928-4faa-9c4a-0e2604303f7b"
      },
      "execution_count": 96,
      "outputs": [
        {
          "output_type": "stream",
          "name": "stdout",
          "text": [
            "Filtered elements divisible by 3: [12 15]\n"
          ]
        }
      ]
    },
    {
      "cell_type": "code",
      "source": [
        "# 70. Filter elements which are ≥ 20 and ≤ 40.\n",
        "arr = np.array([10, 20, 30, 40, 50])\n",
        "filtered_arr = arr[(arr >= 20) & (arr <= 40)]\n",
        "print(f\"Filtered elements ≥ 20 and ≤ 40: {filtered_arr}\")"
      ],
      "metadata": {
        "colab": {
          "base_uri": "https://localhost:8080/"
        },
        "id": "I0SSzqBh54fc",
        "outputId": "eba5d1b1-2e97-4751-d5f2-c5fc41154e91"
      },
      "execution_count": 97,
      "outputs": [
        {
          "output_type": "stream",
          "name": "stdout",
          "text": [
            "Filtered elements ≥ 20 and ≤ 40: [20 30 40]\n"
          ]
        }
      ]
    },
    {
      "cell_type": "code",
      "source": [
        "# 71. Check the byte order of an array using dtype's byteorder attribute.\n",
        "arr = np.array([1, 2, 3])\n",
        "byte_order = arr.dtype.byteorder\n",
        "print(f\"Byte Order: {byte_order}\")"
      ],
      "metadata": {
        "colab": {
          "base_uri": "https://localhost:8080/"
        },
        "id": "TV6xOF1w6JEX",
        "outputId": "cc3423d8-b496-4aee-a35c-f21c33db875c"
      },
      "execution_count": 98,
      "outputs": [
        {
          "output_type": "stream",
          "name": "stdout",
          "text": [
            "Byte Order: =\n"
          ]
        }
      ]
    },
    {
      "cell_type": "code",
      "source": [
        "# 72. Perform byte swapping in place using `byteswap()`.\n",
        "arr = np.array([1, 2, 3], dtype=np.int32)\n",
        "arr.byteswap(inplace=True)\n",
        "print(f\"Byte-swapped array (in place): {arr}\")"
      ],
      "metadata": {
        "colab": {
          "base_uri": "https://localhost:8080/"
        },
        "id": "W7qFEaYy6-lj",
        "outputId": "ef7b32a7-b956-4c54-9510-e2fcde515ffe"
      },
      "execution_count": 99,
      "outputs": [
        {
          "output_type": "stream",
          "name": "stdout",
          "text": [
            "Byte-swapped array (in place): [16777216 33554432 50331648]\n"
          ]
        }
      ]
    },
    {
      "cell_type": "code",
      "source": [
        "# 73. Swap the byte order without modifying the original array using `newbyteorder()`.\n",
        "arr = np.array([1, 2, 3], dtype=np.int32)\n",
        "new_arr = arr.newbyteorder()\n",
        "print(f\"Original Array: {arr}, Swapped Array: {new_arr}\")"
      ],
      "metadata": {
        "colab": {
          "base_uri": "https://localhost:8080/"
        },
        "id": "AZdz3K1I7CDZ",
        "outputId": "f3481ddc-4c32-4011-d535-f48498320f4b"
      },
      "execution_count": 100,
      "outputs": [
        {
          "output_type": "stream",
          "name": "stdout",
          "text": [
            "Original Array: [1 2 3], Swapped Array: [16777216 33554432 50331648]\n"
          ]
        }
      ]
    },
    {
      "cell_type": "code",
      "source": [
        "# 74. Swap byte order conditionally based on system endianness using `newbyteorder()`.\n",
        "arr = np.array([1, 2, 3], dtype=np.int32)\n",
        "if arr.dtype.byteorder == '=':  # Check if system's native byte order\n",
        "    swapped_arr = arr.newbyteorder()\n",
        "    print(f\"Conditionally byte-swapped array: {swapped_arr}\")"
      ],
      "metadata": {
        "colab": {
          "base_uri": "https://localhost:8080/"
        },
        "id": "jt8IAqby7MEd",
        "outputId": "675e2f0b-9e7d-43a9-b98d-659e8efb3e05"
      },
      "execution_count": 101,
      "outputs": [
        {
          "output_type": "stream",
          "name": "stdout",
          "text": [
            "Conditionally byte-swapped array: [16777216 33554432 50331648]\n"
          ]
        }
      ]
    },
    {
      "cell_type": "code",
      "source": [
        "# 75. Check if byte swapping is necessary for the current system using `dtype` attribute `byteorder`.\n",
        "byte_order = arr.dtype.byteorder\n",
        "if byte_order in ('>', '<'):\n",
        "    print(f\"Byte swapping necessary, byte order: {byte_order}\")\n",
        "else:\n",
        "    print(f\"No byte swapping needed, byte order: {byte_order}\")\n"
      ],
      "metadata": {
        "colab": {
          "base_uri": "https://localhost:8080/"
        },
        "id": "Ftd4brPf7Svb",
        "outputId": "69917af7-da77-48e9-bd69-54c65874572a"
      },
      "execution_count": 102,
      "outputs": [
        {
          "output_type": "stream",
          "name": "stdout",
          "text": [
            "No byte swapping needed, byte order: =\n"
          ]
        }
      ]
    },
    {
      "cell_type": "code",
      "source": [
        "# 76. Create `arr1`, copy it, modify the copy, and check for independence.\n",
        "arr1 = np.arange(1, 11)\n",
        "copy_arr = arr1.copy()\n",
        "copy_arr[0] = 99\n",
        "print(f\"Original Array: {arr1}, Copied Array: {copy_arr}\")\n"
      ],
      "metadata": {
        "colab": {
          "base_uri": "https://localhost:8080/"
        },
        "id": "7-i2XISL7ZGr",
        "outputId": "b75cbefe-194c-4e27-ff4e-bc5ab62bf8c9"
      },
      "execution_count": 103,
      "outputs": [
        {
          "output_type": "stream",
          "name": "stdout",
          "text": [
            "Original Array: [ 1  2  3  4  5  6  7  8  9 10], Copied Array: [99  2  3  4  5  6  7  8  9 10]\n"
          ]
        }
      ]
    },
    {
      "cell_type": "code",
      "source": [
        "# 77. Extract a slice from a matrix, modify it, and check if the matrix changes.\n",
        "matrix = np.random.randint(1, 10, size=(3, 3))\n",
        "view_slice = matrix[1:, 1:]\n",
        "view_slice[0, 0] = 99\n",
        "print(f\"Modified Slice: {view_slice}, Original Matrix: {matrix}\")\n"
      ],
      "metadata": {
        "colab": {
          "base_uri": "https://localhost:8080/"
        },
        "id": "9tg-obYv7bla",
        "outputId": "12011a88-2523-42c6-d8e9-7047ea1c9471"
      },
      "execution_count": 105,
      "outputs": [
        {
          "output_type": "stream",
          "name": "stdout",
          "text": [
            "Modified Slice: [[99  4]\n",
            " [ 3  8]], Original Matrix: [[ 1  7  1]\n",
            " [ 7 99  4]\n",
            " [ 6  3  8]]\n"
          ]
        }
      ]
    },
    {
      "cell_type": "code",
      "source": [
        "# 78. Broadcast addition on a slice and check for changes in the original array.\n",
        "array_a = np.arange(1, 13).reshape(4, 3)\n",
        "view_b = array_a[1:, 1:]\n",
        "view_b += 5\n",
        "print(f\"Modified Slice: {view_b}, Original Array: {array_a}\")"
      ],
      "metadata": {
        "colab": {
          "base_uri": "https://localhost:8080/"
        },
        "id": "CK30PHVX75aB",
        "outputId": "78d82ef4-c6e3-443c-88a4-c8eef4f75938"
      },
      "execution_count": 106,
      "outputs": [
        {
          "output_type": "stream",
          "name": "stdout",
          "text": [
            "Modified Slice: [[10 11]\n",
            " [13 14]\n",
            " [16 17]], Original Array: [[ 1  2  3]\n",
            " [ 4 10 11]\n",
            " [ 7 13 14]\n",
            " [10 16 17]]\n"
          ]
        }
      ]
    },
    {
      "cell_type": "code",
      "source": [
        "# 79. Create a reshaped view and modify it to check if the original array reflects changes.\n",
        "orig_array = np.arange(1, 9).reshape(2, 4)\n",
        "reshaped_view = orig_array.reshape(4, 2)\n",
        "reshaped_view[0, 0] = 99\n",
        "print(f\"Reshaped View: {reshaped_view}, Original Array: {orig_array}\")"
      ],
      "metadata": {
        "colab": {
          "base_uri": "https://localhost:8080/"
        },
        "id": "ddxyzHLo7-iG",
        "outputId": "253e1cca-2a7d-4ba5-efb4-a02154d45220"
      },
      "execution_count": 107,
      "outputs": [
        {
          "output_type": "stream",
          "name": "stdout",
          "text": [
            "Reshaped View: [[99  2]\n",
            " [ 3  4]\n",
            " [ 5  6]\n",
            " [ 7  8]], Original Array: [[99  2  3  4]\n",
            " [ 5  6  7  8]]\n"
          ]
        }
      ]
    },
    {
      "cell_type": "code",
      "source": [
        "# 80. Extract a copy of elements > 5, modify the copy, and verify the original remains unchanged.\n",
        "data = np.random.randint(1, 10, size=(3, 4))\n",
        "data_copy = data[data > 5].copy()\n",
        "data_copy[0] = 99\n",
        "print(f\"Data Copy: {data_copy}, Original Data: {data}\")"
      ],
      "metadata": {
        "colab": {
          "base_uri": "https://localhost:8080/"
        },
        "id": "YUSqzoeb8K65",
        "outputId": "5cec2090-fd65-4088-be0e-12140ed2a5ca"
      },
      "execution_count": 108,
      "outputs": [
        {
          "output_type": "stream",
          "name": "stdout",
          "text": [
            "Data Copy: [99  9  6  7  6  9  6  6], Original Data: [[7 5 9 3]\n",
            " [6 7 6 2]\n",
            " [9 6 5 6]]\n"
          ]
        }
      ]
    },
    {
      "cell_type": "code",
      "source": [
        "# 81. Perform addition and subtraction on two matrices of identical shape.\n",
        "A = np.random.randint(1, 10, size=(2, 3))\n",
        "B = np.random.randint(1, 10, size=(2, 3))\n",
        "print(f\"Addition: {A + B}, Subtraction: {A - B}\")\n"
      ],
      "metadata": {
        "colab": {
          "base_uri": "https://localhost:8080/"
        },
        "id": "db8rE-MN8Qie",
        "outputId": "70f7131d-d034-4fe0-8169-6ead8ecc2633"
      },
      "execution_count": 109,
      "outputs": [
        {
          "output_type": "stream",
          "name": "stdout",
          "text": [
            "Addition: [[11  7 17]\n",
            " [ 8  4 10]], Subtraction: [[-1 -3  1]\n",
            " [-4  0 -8]]\n"
          ]
        }
      ]
    },
    {
      "cell_type": "code",
      "source": [
        "# 82. Perform matrix multiplication between two matrices of compatible dimensions.\n",
        "C = np.random.randint(1, 10, size=(3, 2))\n",
        "D = np.random.randint(1, 10, size=(2, 4))\n",
        "matrix_product = np.dot(C, D)\n",
        "print(f\"Matrix Multiplication:\\n{matrix_product}\")"
      ],
      "metadata": {
        "colab": {
          "base_uri": "https://localhost:8080/"
        },
        "id": "w84sX91J8XO-",
        "outputId": "8d3d6a1d-9534-4c02-884e-562168ca95c7"
      },
      "execution_count": 110,
      "outputs": [
        {
          "output_type": "stream",
          "name": "stdout",
          "text": [
            "Matrix Multiplication:\n",
            "[[13 67 63 31]\n",
            " [ 5 27 25 11]\n",
            " [15 81 75 33]]\n"
          ]
        }
      ]
    },
    {
      "cell_type": "code",
      "source": [
        "# 83. Find the transpose of a matrix.\n",
        "E = np.random.randint(1, 10, size=(2, 3))\n",
        "transpose_E = E.T\n",
        "print(f\"Original Matrix:\\n{E}, Transpose:\\n{transpose_E}\")"
      ],
      "metadata": {
        "colab": {
          "base_uri": "https://localhost:8080/"
        },
        "id": "-PgXsvTO8bKJ",
        "outputId": "95c6016e-714a-4cfb-8a27-41d119b31186"
      },
      "execution_count": 111,
      "outputs": [
        {
          "output_type": "stream",
          "name": "stdout",
          "text": [
            "Original Matrix:\n",
            "[[7 1 1]\n",
            " [1 7 9]], Transpose:\n",
            "[[7 1]\n",
            " [1 7]\n",
            " [1 9]]\n"
          ]
        }
      ]
    },
    {
      "cell_type": "code",
      "source": [
        "# 84. Compute the determinant of a square matrix.\n",
        "F = np.random.randint(1, 10, size=(3, 3))\n",
        "determinant_F = np.linalg.det(F)\n",
        "print(f\"Square Matrix:\\n{F}, Determinant: {determinant_F}\")\n"
      ],
      "metadata": {
        "colab": {
          "base_uri": "https://localhost:8080/"
        },
        "id": "44BNYcbI8fD-",
        "outputId": "1c108cb6-ce28-4a45-ad0e-8394c054442a"
      },
      "execution_count": 112,
      "outputs": [
        {
          "output_type": "stream",
          "name": "stdout",
          "text": [
            "Square Matrix:\n",
            "[[4 2 2]\n",
            " [9 9 2]\n",
            " [1 3 5]], Determinant: 106.00000000000007\n"
          ]
        }
      ]
    },
    {
      "cell_type": "code",
      "source": [
        "# 85. Find the inverse of a square matrix.\n",
        "G = np.random.randint(1, 10, size=(3, 3))\n",
        "if np.linalg.det(G) != 0:  # Ensure the matrix is invertible\n",
        "    inverse_G = np.linalg.inv(G)\n",
        "    print(f\"Original Matrix:\\n{G}, Inverse:\\n{inverse_G}\")\n",
        "else:\n",
        "    print(\"Matrix is singular and not invertible.\")\n"
      ],
      "metadata": {
        "colab": {
          "base_uri": "https://localhost:8080/"
        },
        "id": "mUT3QfGg8jXR",
        "outputId": "69bddf3d-63a9-4233-a58e-16a321a09229"
      },
      "execution_count": 113,
      "outputs": [
        {
          "output_type": "stream",
          "name": "stdout",
          "text": [
            "Original Matrix:\n",
            "[[9 7 8]\n",
            " [4 8 7]\n",
            " [5 5 1]], Inverse:\n",
            "[[ 0.14516129 -0.17741935  0.08064516]\n",
            " [-0.16666667  0.16666667  0.16666667]\n",
            " [ 0.10752688  0.05376344 -0.23655914]]\n"
          ]
        }
      ]
    }
  ]
}